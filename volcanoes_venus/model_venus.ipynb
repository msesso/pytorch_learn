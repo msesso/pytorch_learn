{
 "cells": [
  {
   "cell_type": "code",
   "execution_count": 31,
   "metadata": {},
   "outputs": [],
   "source": [
    "import torch\n",
    "from torch import nn, transpose, unsqueeze, squeeze, flatten\n",
    "from torch.utils.data import DataLoader, TensorDataset, random_split\n",
    "from torchvision import datasets\n",
    "from torchvision.transforms import ToTensor\n",
    "from torchmetrics import AUROC\n",
    "import pandas as pd\n",
    "import numpy as np"
   ]
  },
  {
   "cell_type": "code",
   "execution_count": 11,
   "metadata": {},
   "outputs": [],
   "source": [
    "# Loading datasets\n",
    "\n",
    "training_labels = pd.read_csv('/home/sesso/Documents/Study/pytorch_learn/volcanoes_venus/venus_data/archive/volcanoes_train/train_labels.csv')\n",
    "training_input = pd.read_csv('/home/sesso/Documents/Study/pytorch_learn/volcanoes_venus/venus_data/archive/volcanoes_train/train_images.csv',\n",
    "                                header = None)\n",
    "\n",
    "testing_labels = pd.read_csv('/home/sesso/Documents/Study/pytorch_learn/volcanoes_venus/venus_data/archive/volcanoes_test/test_labels.csv')\n",
    "testing_input = pd.read_csv('/home/sesso/Documents/Study/pytorch_learn/volcanoes_venus/venus_data/archive/volcanoes_test/test_images.csv',\n",
    "                                header = None)           \n",
    "\n",
    "# Creating tensor dataset\n",
    "\n",
    "target_col = 'Type'\n",
    "\n",
    "# Make nan in targe col = 0 \n",
    "training_labels[target_col] = training_labels[target_col].fillna(0)\n",
    "testing_labels[target_col] = testing_labels[target_col].fillna(0)\n",
    "\n",
    "# use 30% of training data for validation\n",
    "train_set_size = int(len(training_input) * 0.7)\n",
    "valid_set_size = len(training_input) - train_set_size\n",
    "batch_size = 64\n",
    "\n",
    "## Convert to numpy array\n",
    "\n",
    "training_labels = training_labels[target_col].to_numpy()\n",
    "training_input = training_input.to_numpy()\n",
    "\n",
    "testing_labels = testing_labels[target_col].to_numpy()\n",
    "testing_input = testing_input.to_numpy()\n",
    "\n",
    "## Make tensors of them\n",
    "\n",
    "training_inputs = torch.tensor(training_input, dtype=torch.float32)\n",
    "training_targets = torch.tensor(training_labels, dtype=torch.long)\n",
    "\n",
    "testing_inputs = torch.tensor(testing_input, dtype=torch.float32)\n",
    "testing_targets = torch.tensor(testing_labels, dtype=torch.long)\n",
    "\n",
    "## Tensor datasets\n",
    "\n",
    "dtrain = TensorDataset(training_inputs, training_targets)\n",
    "dtest = TensorDataset(testing_inputs, testing_targets)\n",
    "\n",
    "## Split train and validation set\n",
    "\n",
    "### split the train set into two\n",
    "seed = torch.Generator().manual_seed(42)\n",
    "train_set, valid_set = random_split(dtrain, [train_set_size, valid_set_size], generator=seed)\n",
    "\n",
    "### Batch loader\n",
    "\n",
    "train_dl = DataLoader(train_set, batch_size = batch_size, shuffle=True) \n",
    "val_dl = DataLoader(valid_set) \n",
    "test_dl = DataLoader(dtest, batch_size =batch_size)\n",
    "\n"
   ]
  },
  {
   "cell_type": "code",
   "execution_count": 3,
   "metadata": {},
   "outputs": [
    {
     "name": "stdout",
     "output_type": "stream",
     "text": [
      "Shape of X [N, C]: torch.Size([64, 12100])\n",
      "Shape of y: torch.Size([64]) torch.int64\n"
     ]
    }
   ],
   "source": [
    "for X, y in test_dl:\n",
    "    print(f\"Shape of X [N, C]: {X.shape}\")\n",
    "    print(f\"Shape of y: {y.shape} {y.dtype}\")\n",
    "    break"
   ]
  },
  {
   "cell_type": "markdown",
   "metadata": {},
   "source": [
    "https://pytorch.org/tutorials/beginner/blitz/neural_networks_tutorial.html"
   ]
  },
  {
   "cell_type": "code",
   "execution_count": 4,
   "metadata": {},
   "outputs": [
    {
     "name": "stdout",
     "output_type": "stream",
     "text": [
      "Using cpu device\n",
      "NeuralNetwork(\n",
      "  (seq): Sequential(\n",
      "    (0): Conv1d(1, 6, kernel_size=(101,), stride=(1,))\n",
      "    (1): ReLU()\n",
      "    (2): MaxPool1d(kernel_size=2, stride=2, padding=0, dilation=1, ceil_mode=False)\n",
      "    (3): Conv1d(6, 16, kernel_size=(101,), stride=(1,))\n",
      "    (4): ReLU()\n",
      "    (5): MaxPool1d(kernel_size=2, stride=2, padding=0, dilation=1, ceil_mode=False)\n",
      "    (6): Flatten(start_dim=1, end_dim=-1)\n",
      "    (7): Linear(in_features=47200, out_features=512, bias=True)\n",
      "    (8): ReLU()\n",
      "    (9): Linear(in_features=512, out_features=512, bias=True)\n",
      "    (10): ReLU()\n",
      "    (11): Linear(in_features=512, out_features=10, bias=True)\n",
      "    (12): Linear(in_features=10, out_features=5, bias=True)\n",
      "  )\n",
      ")\n"
     ]
    }
   ],
   "source": [
    "# Get cpu or gpu device for training.\n",
    "device = \"cuda\" if torch.cuda.is_available() else \"cpu\"\n",
    "print(f\"Using {device} device\")\n",
    "k_size = 101\n",
    "\n",
    "# Define model\n",
    "class NeuralNetwork(nn.Module):\n",
    "    def __init__(self):\n",
    "        super(NeuralNetwork, self).__init__()\n",
    "        # self.flatten = nn.Flatten()\n",
    "        self.seq = nn.Sequential(\n",
    "            nn.Conv1d(1, 6, k_size), # -> 121000 - 101 + 1 = 120900 \n",
    "            nn.ReLU(),\n",
    "            nn.MaxPool1d(2), # -> 120900/2 = 60450\n",
    "            nn.Conv1d(6, 16, k_size), # -> 60450 - 101 + 1 = 60350\n",
    "            nn.ReLU(),\n",
    "            nn.MaxPool1d(2), # -> 60350/2 = 30175\n",
    "            nn.Flatten(1),\n",
    "            nn.Linear(47200, 512),  \n",
    "            # nn.fc2 = nn.Linear(120, 84)\n",
    "            # nn.fc3 = nn.Linear(84, 10)\n",
    "            # nn.Linear(110*110, 512),\n",
    "            nn.ReLU(),\n",
    "            nn.Linear(512, 512),\n",
    "            nn.ReLU(),\n",
    "            nn.Linear(512, 10),\n",
    "            nn.Linear(10,5)\n",
    "        )\n",
    "\n",
    "    def forward(self, x):\n",
    "        # x = self.flatten(x)\n",
    "        # x = torch.transpose(x, 0, 1)\n",
    "        x = torch.unsqueeze(x, dim=0)\n",
    "        x = torch.transpose(x, 0, 1)\n",
    "        # x.transpose(0,1)\n",
    "        logits = self.seq(x)\n",
    "        return logits\n",
    "\n",
    "model = NeuralNetwork().to(device)\n",
    "print(model)"
   ]
  },
  {
   "cell_type": "code",
   "execution_count": 5,
   "metadata": {},
   "outputs": [],
   "source": [
    "# loss_fn = nn.CrossEntropyLoss()\n",
    "from tkinter import Variable\n",
    "\n",
    "\n",
    "loss_fn = nn.CrossEntropyLoss()\n",
    "# loss_fn = nn.CrossEntropyLoss()\n",
    "\n",
    "optimizer = torch.optim.SGD(model.parameters(), lr=1e-3)\n",
    "\n",
    "\n",
    "def train(dataloader, model, loss_fn, optimizer):\n",
    "    size = len(dataloader.dataset)\n",
    "    model.train()\n",
    "    for batch, (X, y) in enumerate(dataloader): # CHECK\n",
    "        X, y = X.to(device), y.to(device)\n",
    "\n",
    "        # Compute prediction error\n",
    "        pred = model(X)\n",
    "        loss = loss_fn(pred, y)\n",
    "\n",
    "        # Backpropagation\n",
    "        optimizer.zero_grad()\n",
    "        loss.backward()\n",
    "        optimizer.step()\n",
    "\n",
    "        if batch % 100 == 0:\n",
    "            loss, current = loss.item(), batch * len(X)\n",
    "            print(f\"loss: {loss:>7f}  [{current:>5d}/{size:>5d}]\")"
   ]
  },
  {
   "cell_type": "code",
   "execution_count": 8,
   "metadata": {},
   "outputs": [],
   "source": [
    "def test(dataloader, model, loss_fn):\n",
    "    size = len(dataloader.dataset)\n",
    "    num_batches = len(dataloader)\n",
    "    model.eval()\n",
    "    test_loss, correct = 0, 0\n",
    "    with torch.no_grad():\n",
    "        for X, y in dataloader:\n",
    "            X, y = X.to(device), y.to(device)\n",
    "            pred = model(X)\n",
    "            test_loss += loss_fn(pred, y).item()\n",
    "            correct += (pred.argmax(1) == y).type(torch.float).sum().item()\n",
    "    test_loss /= num_batches\n",
    "    correct /= size\n",
    "    print(f\"Test Error: \\n Accuracy: {(100*correct):>0.1f}%, Avg loss: {test_loss:>8f} \\n\")"
   ]
  },
  {
   "cell_type": "code",
   "execution_count": null,
   "metadata": {},
   "outputs": [],
   "source": [
    "epochs = 40\n",
    "for t in range(epochs):\n",
    "    print(f\"Epoch {t+1}\\n-------------------------------\")\n",
    "    train(train_dl, model, loss_fn, optimizer)\n",
    "    test(test_dl, model, loss_fn)\n",
    "print(\"Done!\")"
   ]
  },
  {
   "cell_type": "code",
   "execution_count": 93,
   "metadata": {},
   "outputs": [],
   "source": [
    "torch.save(model.state_dict(), \"/home/sesso/Documents/Study/pytorch_learn/volcanoes_venus/model/state_dict\")"
   ]
  },
  {
   "cell_type": "code",
   "execution_count": null,
   "metadata": {},
   "outputs": [],
   "source": [
    "# Loading the saved model\n",
    "\n",
    "model.load_state_dict(torch.load(\"/home/sesso/Documents/Study/pytorch_learn/volcanoes_venus/model/state_dict\"))\n",
    "model.eval()"
   ]
  },
  {
   "cell_type": "code",
   "execution_count": 22,
   "metadata": {},
   "outputs": [],
   "source": [
    "def eval_validation(dataloader, model, loss_fn):\n",
    "    size = len(dataloader.dataset)\n",
    "    model.eval()\n",
    "    test_loss, correct = 0, 0\n",
    "    cols = ['actual', 'pred', 'actual_volcano', 'pred_volcano']\n",
    "    out_df = pd.DataFrame(columns=cols, index=range(size))\n",
    "    a = 0\n",
    "    with torch.no_grad():\n",
    "        for X, y in dataloader:\n",
    "            X, y = X.to(device), y.to(device)\n",
    "            pred = model(X)\n",
    "            test_loss += loss_fn(pred, y).item()\n",
    "            correct += (pred.argmax(1) == y).type(torch.float).sum().item()\n",
    "            out_df.loc[a].actual = y.item()\n",
    "            out_df.loc[a].pred = pred.argmax(1).item()\n",
    "            actual_volcano = y.item() > 0\n",
    "            out_df.loc[a].actual_volcano = actual_volcano          \n",
    "            pred_volcano = pred.argmax(1).item() > 0\n",
    "            out_df.loc[a].pred_volcano = pred_volcano\n",
    "            a += 1\n",
    "    test_loss /= size\n",
    "    correct /= size\n",
    "    accuracy = 100*correct\n",
    "    print(f\"Test Error: \\n Accuracy: {accuracy:>0.1f}%, Avg loss: {test_loss:>8f} \\n\")\n",
    "    \n",
    "    return accuracy, test_loss, out_df"
   ]
  },
  {
   "cell_type": "code",
   "execution_count": null,
   "metadata": {},
   "outputs": [],
   "source": [
    "# Test in validation set\n",
    "accuracy, test_loss, out_df = eval_validation(val_dl, model, loss_fn)"
   ]
  },
  {
   "cell_type": "code",
   "execution_count": 24,
   "metadata": {},
   "outputs": [
    {
     "data": {
      "text/html": [
       "<div>\n",
       "<style scoped>\n",
       "    .dataframe tbody tr th:only-of-type {\n",
       "        vertical-align: middle;\n",
       "    }\n",
       "\n",
       "    .dataframe tbody tr th {\n",
       "        vertical-align: top;\n",
       "    }\n",
       "\n",
       "    .dataframe thead th {\n",
       "        text-align: right;\n",
       "    }\n",
       "</style>\n",
       "<table border=\"1\" class=\"dataframe\">\n",
       "  <thead>\n",
       "    <tr style=\"text-align: right;\">\n",
       "      <th></th>\n",
       "      <th>actual</th>\n",
       "      <th>pred</th>\n",
       "      <th>actual_volcano</th>\n",
       "      <th>pred_volcano</th>\n",
       "    </tr>\n",
       "  </thead>\n",
       "  <tbody>\n",
       "    <tr>\n",
       "      <th>0</th>\n",
       "      <td>0</td>\n",
       "      <td>0</td>\n",
       "      <td>False</td>\n",
       "      <td>False</td>\n",
       "    </tr>\n",
       "    <tr>\n",
       "      <th>1</th>\n",
       "      <td>0</td>\n",
       "      <td>0</td>\n",
       "      <td>False</td>\n",
       "      <td>False</td>\n",
       "    </tr>\n",
       "    <tr>\n",
       "      <th>2</th>\n",
       "      <td>0</td>\n",
       "      <td>0</td>\n",
       "      <td>False</td>\n",
       "      <td>False</td>\n",
       "    </tr>\n",
       "    <tr>\n",
       "      <th>3</th>\n",
       "      <td>0</td>\n",
       "      <td>0</td>\n",
       "      <td>False</td>\n",
       "      <td>False</td>\n",
       "    </tr>\n",
       "    <tr>\n",
       "      <th>4</th>\n",
       "      <td>3</td>\n",
       "      <td>0</td>\n",
       "      <td>True</td>\n",
       "      <td>False</td>\n",
       "    </tr>\n",
       "  </tbody>\n",
       "</table>\n",
       "</div>"
      ],
      "text/plain": [
       "  actual pred actual_volcano pred_volcano\n",
       "0      0    0          False        False\n",
       "1      0    0          False        False\n",
       "2      0    0          False        False\n",
       "3      0    0          False        False\n",
       "4      3    0           True        False"
      ]
     },
     "execution_count": 24,
     "metadata": {},
     "output_type": "execute_result"
    }
   ],
   "source": [
    "out_df.head()"
   ]
  },
  {
   "cell_type": "code",
   "execution_count": 29,
   "metadata": {},
   "outputs": [],
   "source": [
    "out_df['TP'] = (out_df['actual_volcano'] == True) & (out_df['pred_volcano'] == True)\n",
    "out_df['FP'] = (out_df['actual_volcano'] == False) & (out_df['pred_volcano'] == True)\n",
    "out_df['TN'] = (out_df['actual_volcano'] == False) & (out_df['pred_volcano'] == False)\n",
    "out_df['FN'] = (out_df['actual_volcano'] == True) & (out_df['pred_volcano'] == False)"
   ]
  },
  {
   "cell_type": "code",
   "execution_count": 44,
   "metadata": {},
   "outputs": [
    {
     "name": "stderr",
     "output_type": "stream",
     "text": [
      "/home/sesso/anaconda3/envs/pytorch_learn/lib/python3.10/site-packages/torchmetrics/utilities/prints.py:36: UserWarning: Metric `AUROC` will save all targets and predictions in buffer. For large datasets this may lead to large memory footprint.\n",
      "  warnings.warn(*args, **kwargs)\n"
     ]
    }
   ],
   "source": [
    "preds = out_df['pred_volcano'].to_numpy().astype(int)\n",
    "preds = torch.from_numpy(preds)\n",
    "target = out_df['actual_volcano'].to_numpy().astype(int)\n",
    "target = torch.from_numpy(target)\n",
    "auroc = AUROC(num_classes=1)\n",
    "auroc_metric = auroc(preds, target).item()\n"
   ]
  },
  {
   "cell_type": "code",
   "execution_count": 45,
   "metadata": {},
   "outputs": [
    {
     "name": "stdout",
     "output_type": "stream",
     "text": [
      "Accuracy: 87.6%\n",
      "Loss: 0.479428 \n",
      "AUROC: 0.82  \n"
     ]
    }
   ],
   "source": [
    "print(f\"Accuracy: {accuracy:>0.1f}%\\nLoss: {test_loss:>8f} \\nAUROC: {auroc_metric:>0.2f}  \")"
   ]
  },
  {
   "cell_type": "code",
   "execution_count": 46,
   "metadata": {},
   "outputs": [
    {
     "data": {
      "text/plain": [
       "actual                0.42\n",
       "pred              0.395714\n",
       "actual_volcano    0.145238\n",
       "pred_volcano      0.130476\n",
       "TP                0.099048\n",
       "FP                0.031429\n",
       "TN                0.823333\n",
       "FN                 0.04619\n",
       "dtype: object"
      ]
     },
     "execution_count": 46,
     "metadata": {},
     "output_type": "execute_result"
    }
   ],
   "source": [
    "out_df.sum()/len(out_df)\n"
   ]
  }
 ],
 "metadata": {
  "kernelspec": {
   "display_name": "Python 3.10.4 ('pytorch_learn')",
   "language": "python",
   "name": "python3"
  },
  "language_info": {
   "codemirror_mode": {
    "name": "ipython",
    "version": 3
   },
   "file_extension": ".py",
   "mimetype": "text/x-python",
   "name": "python",
   "nbconvert_exporter": "python",
   "pygments_lexer": "ipython3",
   "version": "3.10.4"
  },
  "orig_nbformat": 4,
  "vscode": {
   "interpreter": {
    "hash": "f397f3ec50889eb054daa16521f0a15537c1a176cdcd52c7938d888056d34d40"
   }
  }
 },
 "nbformat": 4,
 "nbformat_minor": 2
}
