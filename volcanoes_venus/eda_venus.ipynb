{
 "cells": [
  {
   "cell_type": "markdown",
   "metadata": {},
   "source": [
    "# Volcanoes in Venus"
   ]
  },
  {
   "cell_type": "code",
   "execution_count": 2,
   "metadata": {},
   "outputs": [],
   "source": [
    "import pandas as pd\n",
    "import plotly.express as px\n"
   ]
  },
  {
   "cell_type": "markdown",
   "metadata": {},
   "source": [
    "## Labels Dataset"
   ]
  },
  {
   "cell_type": "code",
   "execution_count": 25,
   "metadata": {},
   "outputs": [
    {
     "name": "stderr",
     "output_type": "stream",
     "text": [
      "/tmp/ipykernel_17832/3717160499.py:3: SettingWithCopyWarning:\n",
      "\n",
      "\n",
      "A value is trying to be set on a copy of a slice from a DataFrame.\n",
      "Try using .loc[row_indexer,col_indexer] = value instead\n",
      "\n",
      "See the caveats in the documentation: https://pandas.pydata.org/pandas-docs/stable/user_guide/indexing.html#returning-a-view-versus-a-copy\n",
      "\n"
     ]
    },
    {
     "data": {
      "text/html": [
       "<div>\n",
       "<style scoped>\n",
       "    .dataframe tbody tr th:only-of-type {\n",
       "        vertical-align: middle;\n",
       "    }\n",
       "\n",
       "    .dataframe tbody tr th {\n",
       "        vertical-align: top;\n",
       "    }\n",
       "\n",
       "    .dataframe thead th {\n",
       "        text-align: right;\n",
       "    }\n",
       "</style>\n",
       "<table border=\"1\" class=\"dataframe\">\n",
       "  <thead>\n",
       "    <tr style=\"text-align: right;\">\n",
       "      <th></th>\n",
       "      <th>Volcano?</th>\n",
       "      <th>Type</th>\n",
       "      <th>Radius</th>\n",
       "      <th>Number Volcanoes</th>\n",
       "    </tr>\n",
       "  </thead>\n",
       "  <tbody>\n",
       "    <tr>\n",
       "      <th>0</th>\n",
       "      <td>1</td>\n",
       "      <td>3.0</td>\n",
       "      <td>17.46</td>\n",
       "      <td>1.0</td>\n",
       "    </tr>\n",
       "    <tr>\n",
       "      <th>1</th>\n",
       "      <td>0</td>\n",
       "      <td>NaN</td>\n",
       "      <td>NaN</td>\n",
       "      <td>NaN</td>\n",
       "    </tr>\n",
       "    <tr>\n",
       "      <th>2</th>\n",
       "      <td>0</td>\n",
       "      <td>NaN</td>\n",
       "      <td>NaN</td>\n",
       "      <td>NaN</td>\n",
       "    </tr>\n",
       "    <tr>\n",
       "      <th>3</th>\n",
       "      <td>0</td>\n",
       "      <td>NaN</td>\n",
       "      <td>NaN</td>\n",
       "      <td>NaN</td>\n",
       "    </tr>\n",
       "    <tr>\n",
       "      <th>4</th>\n",
       "      <td>0</td>\n",
       "      <td>NaN</td>\n",
       "      <td>NaN</td>\n",
       "      <td>NaN</td>\n",
       "    </tr>\n",
       "  </tbody>\n",
       "</table>\n",
       "</div>"
      ],
      "text/plain": [
       "   Volcano?  Type  Radius  Number Volcanoes\n",
       "0         1   3.0   17.46               1.0\n",
       "1         0   NaN     NaN               NaN\n",
       "2         0   NaN     NaN               NaN\n",
       "3         0   NaN     NaN               NaN\n",
       "4         0   NaN     NaN               NaN"
      ]
     },
     "execution_count": 25,
     "metadata": {},
     "output_type": "execute_result"
    }
   ],
   "source": [
    "labels_df = pd.read_csv('/home/sesso/Documents/Study/pytorch_learn/volcanoes_venus/venus_data/archive/volcanoes_train/train_labels.csv')\n",
    "labels_df_volc = labels_df[labels_df['Volcano?']>0]\n",
    "labels_df_volc['type_cat'] = labels_df_volc['Type']\n",
    "labels_df_volc['type_cat'].astype('str')\n",
    "\n",
    "labels_df.head()"
   ]
  },
  {
   "cell_type": "code",
   "execution_count": 36,
   "metadata": {},
   "outputs": [
    {
     "name": "stdout",
     "output_type": "stream",
     "text": [
      "Shape: (7000, 4)\n",
      "--- Missing Values ---\n",
      "Volcano?               0\n",
      "Type                6000\n",
      "Radius              6000\n",
      "Number Volcanoes    6000\n",
      "dtype: int64\n",
      "--- Imbalancedness ---\n",
      "Volcanoes : 14.285714285714285 %\n",
      "non Volcanoes : 85.71428571428572 %\n"
     ]
    }
   ],
   "source": [
    "\n",
    "print(f'Shape: {labels_df.shape}')\n",
    "print('--- Missing Values ---')\n",
    "print(labels_df.isna().sum())\n",
    "\n",
    "x = len(labels_df_volc)/len(labels_df)\n",
    "y = 1 - x\n",
    "\n",
    "print('--- Imbalancedness ---')\n",
    "print('Volcanoes :',x*100,'%')\n",
    "print('non Volcanoes :',y*100,'%')"
   ]
  },
  {
   "cell_type": "markdown",
   "metadata": {},
   "source": [
    "Checking dataset columns:\n",
    "\n",
    "- Volcano?: if in the image there are volcanoes (Main target), 1 or 0.\n",
    "\n",
    "for Volcano?=0 this three next features are NaN\n",
    "\n",
    "Type:\n",
    "\n",
    "  - 1 = definitely a volcano\n",
    "  - 2 = probably\n",
    "  - 3 = possibly\n",
    "  - 4 = only a pit is visible\n",
    "\n",
    "Radius: is the radius of the volcan in the center of the image, in pixels\n",
    "\n",
    "Number Volcanoes: The number of volcanoes in the image"
   ]
  },
  {
   "cell_type": "markdown",
   "metadata": {},
   "source": [
    "### Plots and tables"
   ]
  },
  {
   "cell_type": "markdown",
   "metadata": {},
   "source": [
    "#### Type\n",
    "\n",
    "As seen below, there is a lot of uncertainty in what is defined as a volcano. Rouglhy speaking, 83% of the volcanos detected fall in \"possibly\" or \"only a pit is visible\". \n"
   ]
  },
  {
   "cell_type": "code",
   "execution_count": 22,
   "metadata": {},
   "outputs": [
    {
     "data": {
      "application/vnd.plotly.v1+json": {
       "config": {
        "plotlyServerURL": "https://plot.ly"
       },
       "data": [
        {
         "domain": {
          "x": [
           0,
           1
          ],
          "y": [
           0,
           1
          ]
         },
         "hovertemplate": "type_cat=%{label}<br>Type=%{value}<extra></extra>",
         "labels": [
          3,
          1,
          1,
          4,
          3,
          2,
          1,
          1,
          4,
          3,
          4,
          3,
          4,
          4,
          4,
          3,
          3,
          3,
          3,
          2,
          3,
          3,
          4,
          4,
          4,
          4,
          4,
          1,
          3,
          4,
          4,
          3,
          2,
          3,
          2,
          1,
          4,
          2,
          2,
          2,
          2,
          2,
          2,
          3,
          2,
          1,
          4,
          4,
          4,
          2,
          2,
          3,
          3,
          3,
          3,
          3,
          4,
          4,
          1,
          2,
          3,
          2,
          3,
          3,
          2,
          4,
          3,
          2,
          3,
          3,
          4,
          3,
          4,
          2,
          4,
          2,
          3,
          2,
          4,
          3,
          4,
          1,
          3,
          4,
          4,
          4,
          4,
          2,
          3,
          1,
          3,
          1,
          4,
          3,
          4,
          3,
          3,
          3,
          4,
          4,
          3,
          4,
          4,
          3,
          3,
          1,
          3,
          3,
          2,
          3,
          2,
          1,
          3,
          1,
          4,
          3,
          3,
          1,
          2,
          4,
          4,
          1,
          3,
          3,
          4,
          2,
          2,
          3,
          4,
          2,
          4,
          2,
          1,
          2,
          3,
          3,
          2,
          3,
          3,
          3,
          3,
          3,
          4,
          3,
          4,
          4,
          3,
          3,
          3,
          1,
          3,
          3,
          3,
          3,
          3,
          3,
          4,
          3,
          3,
          3,
          2,
          3,
          3,
          3,
          3,
          3,
          4,
          1,
          2,
          2,
          2,
          3,
          1,
          3,
          4,
          3,
          4,
          2,
          4,
          3,
          1,
          3,
          2,
          1,
          4,
          4,
          3,
          3,
          4,
          3,
          2,
          4,
          3,
          1,
          2,
          1,
          2,
          4,
          3,
          4,
          4,
          4,
          3,
          2,
          4,
          3,
          4,
          2,
          4,
          3,
          4,
          2,
          2,
          4,
          2,
          1,
          4,
          2,
          4,
          1,
          3,
          4,
          4,
          4,
          3,
          1,
          2,
          3,
          4,
          4,
          3,
          3,
          4,
          4,
          4,
          4,
          1,
          3,
          2,
          4,
          1,
          4,
          4,
          3,
          4,
          3,
          4,
          4,
          4,
          3,
          4,
          3,
          1,
          3,
          3,
          2,
          3,
          4,
          2,
          3,
          3,
          1,
          3,
          4,
          2,
          3,
          4,
          4,
          2,
          3,
          2,
          4,
          3,
          3,
          4,
          3,
          3,
          4,
          4,
          1,
          4,
          4,
          3,
          2,
          2,
          4,
          3,
          4,
          4,
          3,
          4,
          3,
          2,
          3,
          4,
          3,
          3,
          2,
          4,
          2,
          3,
          1,
          1,
          2,
          4,
          2,
          3,
          3,
          2,
          2,
          4,
          3,
          3,
          3,
          4,
          2,
          4,
          4,
          4,
          4,
          4,
          4,
          3,
          4,
          1,
          4,
          3,
          4,
          4,
          2,
          2,
          1,
          2,
          4,
          3,
          3,
          4,
          4,
          4,
          3,
          3,
          2,
          3,
          3,
          3,
          3,
          3,
          4,
          2,
          1,
          4,
          3,
          3,
          1,
          1,
          3,
          4,
          3,
          1,
          2,
          4,
          1,
          3,
          4,
          2,
          2,
          3,
          4,
          4,
          1,
          3,
          1,
          3,
          1,
          3,
          2,
          3,
          3,
          3,
          3,
          3,
          4,
          4,
          3,
          4,
          4,
          2,
          1,
          3,
          2,
          3,
          3,
          4,
          4,
          4,
          4,
          4,
          2,
          2,
          1,
          4,
          3,
          4,
          4,
          4,
          3,
          1,
          4,
          4,
          4,
          3,
          2,
          4,
          4,
          3,
          4,
          3,
          3,
          3,
          4,
          4,
          2,
          4,
          3,
          1,
          3,
          4,
          2,
          3,
          4,
          1,
          1,
          3,
          3,
          2,
          4,
          4,
          4,
          3,
          4,
          4,
          4,
          2,
          2,
          4,
          3,
          2,
          2,
          3,
          4,
          3,
          4,
          3,
          4,
          3,
          4,
          3,
          4,
          4,
          3,
          4,
          4,
          3,
          2,
          1,
          1,
          4,
          4,
          4,
          3,
          3,
          3,
          4,
          4,
          3,
          3,
          4,
          4,
          3,
          3,
          4,
          4,
          2,
          3,
          4,
          4,
          3,
          4,
          3,
          1,
          3,
          4,
          3,
          4,
          3,
          1,
          1,
          2,
          3,
          3,
          4,
          3,
          4,
          1,
          1,
          1,
          4,
          2,
          3,
          2,
          2,
          2,
          3,
          1,
          2,
          3,
          1,
          4,
          4,
          3,
          4,
          1,
          2,
          4,
          3,
          2,
          1,
          2,
          4,
          3,
          2,
          4,
          4,
          2,
          4,
          4,
          3,
          1,
          4,
          4,
          4,
          4,
          4,
          4,
          3,
          4,
          2,
          4,
          3,
          4,
          2,
          1,
          3,
          4,
          2,
          3,
          3,
          3,
          4,
          2,
          4,
          2,
          3,
          4,
          2,
          3,
          2,
          3,
          2,
          2,
          2,
          2,
          2,
          3,
          3,
          4,
          3,
          3,
          1,
          3,
          3,
          4,
          1,
          2,
          2,
          3,
          1,
          3,
          4,
          2,
          4,
          3,
          4,
          4,
          3,
          4,
          1,
          4,
          3,
          3,
          3,
          2,
          3,
          2,
          4,
          4,
          3,
          3,
          2,
          1,
          2,
          3,
          2,
          4,
          3,
          2,
          2,
          1,
          4,
          2,
          3,
          1,
          2,
          4,
          4,
          4,
          3,
          4,
          3,
          3,
          2,
          2,
          2,
          4,
          2,
          3,
          3,
          1,
          4,
          4,
          3,
          4,
          3,
          4,
          3,
          1,
          4,
          3,
          1,
          4,
          4,
          2,
          3,
          3,
          1,
          3,
          4,
          3,
          4,
          1,
          3,
          3,
          3,
          4,
          2,
          3,
          3,
          4,
          4,
          2,
          4,
          3,
          1,
          4,
          4,
          4,
          4,
          2,
          2,
          3,
          2,
          3,
          4,
          3,
          3,
          4,
          3,
          2,
          2,
          4,
          4,
          2,
          4,
          3,
          4,
          4,
          3,
          4,
          4,
          3,
          3,
          2,
          3,
          3,
          2,
          4,
          2,
          1,
          4,
          3,
          3,
          4,
          3,
          4,
          4,
          3,
          3,
          4,
          3,
          3,
          1,
          3,
          3,
          4,
          3,
          4,
          1,
          2,
          1,
          4,
          4,
          4,
          3,
          4,
          1,
          3,
          4,
          3,
          4,
          2,
          4,
          2,
          3,
          3,
          3,
          4,
          3,
          2,
          4,
          4,
          4,
          4,
          4,
          2,
          3,
          3,
          2,
          4,
          4,
          4,
          3,
          4,
          4,
          3,
          3,
          4,
          4,
          4,
          4,
          4,
          3,
          3,
          2,
          4,
          1,
          3,
          4,
          4,
          4,
          1,
          3,
          3,
          2,
          4,
          4,
          3,
          4,
          4,
          3,
          2,
          1,
          2,
          3,
          3,
          2,
          1,
          3,
          4,
          1,
          4,
          2,
          3,
          4,
          3,
          4,
          1,
          3,
          4,
          4,
          4,
          4,
          3,
          3,
          2,
          4,
          2,
          3,
          2,
          2,
          3,
          1,
          3,
          2,
          4,
          3,
          3,
          3,
          3,
          2,
          2,
          4,
          3,
          3,
          4,
          4,
          3,
          4,
          4,
          4,
          4,
          2,
          3,
          4,
          1,
          2,
          3,
          2,
          1,
          1,
          4,
          4,
          3,
          4,
          3,
          2,
          1,
          3,
          4,
          1,
          2,
          2,
          3,
          3,
          3,
          3,
          4,
          3,
          4,
          1,
          3,
          4,
          3,
          1,
          4,
          2,
          3,
          3,
          4,
          4,
          4,
          4,
          3,
          4,
          4,
          4,
          3,
          4,
          2,
          4,
          4,
          3,
          3,
          4,
          4,
          3,
          3,
          2,
          3,
          4,
          3,
          4,
          4,
          3,
          3,
          4,
          4,
          4,
          1,
          2,
          2,
          4,
          3,
          2,
          4,
          4,
          4,
          3,
          1,
          3,
          3,
          4,
          4,
          4,
          4,
          3,
          4,
          2,
          4,
          4,
          4,
          3,
          3,
          2,
          4,
          4,
          4,
          4,
          3,
          2,
          1,
          4,
          4,
          1,
          1,
          3,
          4,
          4,
          3,
          3,
          4,
          4,
          2,
          3,
          3,
          4,
          4,
          2,
          2,
          4,
          2,
          3,
          4,
          4,
          4,
          3,
          4,
          3,
          2,
          3,
          2,
          2,
          1,
          4,
          4,
          3,
          2,
          2,
          1,
          2,
          4,
          2,
          4,
          3,
          3,
          2,
          4,
          1,
          3,
          3,
          2,
          1,
          2,
          3,
          4,
          2,
          2,
          2,
          4,
          3,
          4
         ],
         "legendgroup": "",
         "name": "",
         "showlegend": true,
         "type": "pie",
         "values": [
          3,
          1,
          1,
          4,
          3,
          2,
          1,
          1,
          4,
          3,
          4,
          3,
          4,
          4,
          4,
          3,
          3,
          3,
          3,
          2,
          3,
          3,
          4,
          4,
          4,
          4,
          4,
          1,
          3,
          4,
          4,
          3,
          2,
          3,
          2,
          1,
          4,
          2,
          2,
          2,
          2,
          2,
          2,
          3,
          2,
          1,
          4,
          4,
          4,
          2,
          2,
          3,
          3,
          3,
          3,
          3,
          4,
          4,
          1,
          2,
          3,
          2,
          3,
          3,
          2,
          4,
          3,
          2,
          3,
          3,
          4,
          3,
          4,
          2,
          4,
          2,
          3,
          2,
          4,
          3,
          4,
          1,
          3,
          4,
          4,
          4,
          4,
          2,
          3,
          1,
          3,
          1,
          4,
          3,
          4,
          3,
          3,
          3,
          4,
          4,
          3,
          4,
          4,
          3,
          3,
          1,
          3,
          3,
          2,
          3,
          2,
          1,
          3,
          1,
          4,
          3,
          3,
          1,
          2,
          4,
          4,
          1,
          3,
          3,
          4,
          2,
          2,
          3,
          4,
          2,
          4,
          2,
          1,
          2,
          3,
          3,
          2,
          3,
          3,
          3,
          3,
          3,
          4,
          3,
          4,
          4,
          3,
          3,
          3,
          1,
          3,
          3,
          3,
          3,
          3,
          3,
          4,
          3,
          3,
          3,
          2,
          3,
          3,
          3,
          3,
          3,
          4,
          1,
          2,
          2,
          2,
          3,
          1,
          3,
          4,
          3,
          4,
          2,
          4,
          3,
          1,
          3,
          2,
          1,
          4,
          4,
          3,
          3,
          4,
          3,
          2,
          4,
          3,
          1,
          2,
          1,
          2,
          4,
          3,
          4,
          4,
          4,
          3,
          2,
          4,
          3,
          4,
          2,
          4,
          3,
          4,
          2,
          2,
          4,
          2,
          1,
          4,
          2,
          4,
          1,
          3,
          4,
          4,
          4,
          3,
          1,
          2,
          3,
          4,
          4,
          3,
          3,
          4,
          4,
          4,
          4,
          1,
          3,
          2,
          4,
          1,
          4,
          4,
          3,
          4,
          3,
          4,
          4,
          4,
          3,
          4,
          3,
          1,
          3,
          3,
          2,
          3,
          4,
          2,
          3,
          3,
          1,
          3,
          4,
          2,
          3,
          4,
          4,
          2,
          3,
          2,
          4,
          3,
          3,
          4,
          3,
          3,
          4,
          4,
          1,
          4,
          4,
          3,
          2,
          2,
          4,
          3,
          4,
          4,
          3,
          4,
          3,
          2,
          3,
          4,
          3,
          3,
          2,
          4,
          2,
          3,
          1,
          1,
          2,
          4,
          2,
          3,
          3,
          2,
          2,
          4,
          3,
          3,
          3,
          4,
          2,
          4,
          4,
          4,
          4,
          4,
          4,
          3,
          4,
          1,
          4,
          3,
          4,
          4,
          2,
          2,
          1,
          2,
          4,
          3,
          3,
          4,
          4,
          4,
          3,
          3,
          2,
          3,
          3,
          3,
          3,
          3,
          4,
          2,
          1,
          4,
          3,
          3,
          1,
          1,
          3,
          4,
          3,
          1,
          2,
          4,
          1,
          3,
          4,
          2,
          2,
          3,
          4,
          4,
          1,
          3,
          1,
          3,
          1,
          3,
          2,
          3,
          3,
          3,
          3,
          3,
          4,
          4,
          3,
          4,
          4,
          2,
          1,
          3,
          2,
          3,
          3,
          4,
          4,
          4,
          4,
          4,
          2,
          2,
          1,
          4,
          3,
          4,
          4,
          4,
          3,
          1,
          4,
          4,
          4,
          3,
          2,
          4,
          4,
          3,
          4,
          3,
          3,
          3,
          4,
          4,
          2,
          4,
          3,
          1,
          3,
          4,
          2,
          3,
          4,
          1,
          1,
          3,
          3,
          2,
          4,
          4,
          4,
          3,
          4,
          4,
          4,
          2,
          2,
          4,
          3,
          2,
          2,
          3,
          4,
          3,
          4,
          3,
          4,
          3,
          4,
          3,
          4,
          4,
          3,
          4,
          4,
          3,
          2,
          1,
          1,
          4,
          4,
          4,
          3,
          3,
          3,
          4,
          4,
          3,
          3,
          4,
          4,
          3,
          3,
          4,
          4,
          2,
          3,
          4,
          4,
          3,
          4,
          3,
          1,
          3,
          4,
          3,
          4,
          3,
          1,
          1,
          2,
          3,
          3,
          4,
          3,
          4,
          1,
          1,
          1,
          4,
          2,
          3,
          2,
          2,
          2,
          3,
          1,
          2,
          3,
          1,
          4,
          4,
          3,
          4,
          1,
          2,
          4,
          3,
          2,
          1,
          2,
          4,
          3,
          2,
          4,
          4,
          2,
          4,
          4,
          3,
          1,
          4,
          4,
          4,
          4,
          4,
          4,
          3,
          4,
          2,
          4,
          3,
          4,
          2,
          1,
          3,
          4,
          2,
          3,
          3,
          3,
          4,
          2,
          4,
          2,
          3,
          4,
          2,
          3,
          2,
          3,
          2,
          2,
          2,
          2,
          2,
          3,
          3,
          4,
          3,
          3,
          1,
          3,
          3,
          4,
          1,
          2,
          2,
          3,
          1,
          3,
          4,
          2,
          4,
          3,
          4,
          4,
          3,
          4,
          1,
          4,
          3,
          3,
          3,
          2,
          3,
          2,
          4,
          4,
          3,
          3,
          2,
          1,
          2,
          3,
          2,
          4,
          3,
          2,
          2,
          1,
          4,
          2,
          3,
          1,
          2,
          4,
          4,
          4,
          3,
          4,
          3,
          3,
          2,
          2,
          2,
          4,
          2,
          3,
          3,
          1,
          4,
          4,
          3,
          4,
          3,
          4,
          3,
          1,
          4,
          3,
          1,
          4,
          4,
          2,
          3,
          3,
          1,
          3,
          4,
          3,
          4,
          1,
          3,
          3,
          3,
          4,
          2,
          3,
          3,
          4,
          4,
          2,
          4,
          3,
          1,
          4,
          4,
          4,
          4,
          2,
          2,
          3,
          2,
          3,
          4,
          3,
          3,
          4,
          3,
          2,
          2,
          4,
          4,
          2,
          4,
          3,
          4,
          4,
          3,
          4,
          4,
          3,
          3,
          2,
          3,
          3,
          2,
          4,
          2,
          1,
          4,
          3,
          3,
          4,
          3,
          4,
          4,
          3,
          3,
          4,
          3,
          3,
          1,
          3,
          3,
          4,
          3,
          4,
          1,
          2,
          1,
          4,
          4,
          4,
          3,
          4,
          1,
          3,
          4,
          3,
          4,
          2,
          4,
          2,
          3,
          3,
          3,
          4,
          3,
          2,
          4,
          4,
          4,
          4,
          4,
          2,
          3,
          3,
          2,
          4,
          4,
          4,
          3,
          4,
          4,
          3,
          3,
          4,
          4,
          4,
          4,
          4,
          3,
          3,
          2,
          4,
          1,
          3,
          4,
          4,
          4,
          1,
          3,
          3,
          2,
          4,
          4,
          3,
          4,
          4,
          3,
          2,
          1,
          2,
          3,
          3,
          2,
          1,
          3,
          4,
          1,
          4,
          2,
          3,
          4,
          3,
          4,
          1,
          3,
          4,
          4,
          4,
          4,
          3,
          3,
          2,
          4,
          2,
          3,
          2,
          2,
          3,
          1,
          3,
          2,
          4,
          3,
          3,
          3,
          3,
          2,
          2,
          4,
          3,
          3,
          4,
          4,
          3,
          4,
          4,
          4,
          4,
          2,
          3,
          4,
          1,
          2,
          3,
          2,
          1,
          1,
          4,
          4,
          3,
          4,
          3,
          2,
          1,
          3,
          4,
          1,
          2,
          2,
          3,
          3,
          3,
          3,
          4,
          3,
          4,
          1,
          3,
          4,
          3,
          1,
          4,
          2,
          3,
          3,
          4,
          4,
          4,
          4,
          3,
          4,
          4,
          4,
          3,
          4,
          2,
          4,
          4,
          3,
          3,
          4,
          4,
          3,
          3,
          2,
          3,
          4,
          3,
          4,
          4,
          3,
          3,
          4,
          4,
          4,
          1,
          2,
          2,
          4,
          3,
          2,
          4,
          4,
          4,
          3,
          1,
          3,
          3,
          4,
          4,
          4,
          4,
          3,
          4,
          2,
          4,
          4,
          4,
          3,
          3,
          2,
          4,
          4,
          4,
          4,
          3,
          2,
          1,
          4,
          4,
          1,
          1,
          3,
          4,
          4,
          3,
          3,
          4,
          4,
          2,
          3,
          3,
          4,
          4,
          2,
          2,
          4,
          2,
          3,
          4,
          4,
          4,
          3,
          4,
          3,
          2,
          3,
          2,
          2,
          1,
          4,
          4,
          3,
          2,
          2,
          1,
          2,
          4,
          2,
          4,
          3,
          3,
          2,
          4,
          1,
          3,
          3,
          2,
          1,
          2,
          3,
          4,
          2,
          2,
          2,
          4,
          3,
          4
         ]
        }
       ],
       "layout": {
        "legend": {
         "tracegroupgap": 0
        },
        "margin": {
         "t": 60
        },
        "template": {
         "data": {
          "bar": [
           {
            "error_x": {
             "color": "#2a3f5f"
            },
            "error_y": {
             "color": "#2a3f5f"
            },
            "marker": {
             "line": {
              "color": "#E5ECF6",
              "width": 0.5
             },
             "pattern": {
              "fillmode": "overlay",
              "size": 10,
              "solidity": 0.2
             }
            },
            "type": "bar"
           }
          ],
          "barpolar": [
           {
            "marker": {
             "line": {
              "color": "#E5ECF6",
              "width": 0.5
             },
             "pattern": {
              "fillmode": "overlay",
              "size": 10,
              "solidity": 0.2
             }
            },
            "type": "barpolar"
           }
          ],
          "carpet": [
           {
            "aaxis": {
             "endlinecolor": "#2a3f5f",
             "gridcolor": "white",
             "linecolor": "white",
             "minorgridcolor": "white",
             "startlinecolor": "#2a3f5f"
            },
            "baxis": {
             "endlinecolor": "#2a3f5f",
             "gridcolor": "white",
             "linecolor": "white",
             "minorgridcolor": "white",
             "startlinecolor": "#2a3f5f"
            },
            "type": "carpet"
           }
          ],
          "choropleth": [
           {
            "colorbar": {
             "outlinewidth": 0,
             "ticks": ""
            },
            "type": "choropleth"
           }
          ],
          "contour": [
           {
            "colorbar": {
             "outlinewidth": 0,
             "ticks": ""
            },
            "colorscale": [
             [
              0,
              "#0d0887"
             ],
             [
              0.1111111111111111,
              "#46039f"
             ],
             [
              0.2222222222222222,
              "#7201a8"
             ],
             [
              0.3333333333333333,
              "#9c179e"
             ],
             [
              0.4444444444444444,
              "#bd3786"
             ],
             [
              0.5555555555555556,
              "#d8576b"
             ],
             [
              0.6666666666666666,
              "#ed7953"
             ],
             [
              0.7777777777777778,
              "#fb9f3a"
             ],
             [
              0.8888888888888888,
              "#fdca26"
             ],
             [
              1,
              "#f0f921"
             ]
            ],
            "type": "contour"
           }
          ],
          "contourcarpet": [
           {
            "colorbar": {
             "outlinewidth": 0,
             "ticks": ""
            },
            "type": "contourcarpet"
           }
          ],
          "heatmap": [
           {
            "colorbar": {
             "outlinewidth": 0,
             "ticks": ""
            },
            "colorscale": [
             [
              0,
              "#0d0887"
             ],
             [
              0.1111111111111111,
              "#46039f"
             ],
             [
              0.2222222222222222,
              "#7201a8"
             ],
             [
              0.3333333333333333,
              "#9c179e"
             ],
             [
              0.4444444444444444,
              "#bd3786"
             ],
             [
              0.5555555555555556,
              "#d8576b"
             ],
             [
              0.6666666666666666,
              "#ed7953"
             ],
             [
              0.7777777777777778,
              "#fb9f3a"
             ],
             [
              0.8888888888888888,
              "#fdca26"
             ],
             [
              1,
              "#f0f921"
             ]
            ],
            "type": "heatmap"
           }
          ],
          "heatmapgl": [
           {
            "colorbar": {
             "outlinewidth": 0,
             "ticks": ""
            },
            "colorscale": [
             [
              0,
              "#0d0887"
             ],
             [
              0.1111111111111111,
              "#46039f"
             ],
             [
              0.2222222222222222,
              "#7201a8"
             ],
             [
              0.3333333333333333,
              "#9c179e"
             ],
             [
              0.4444444444444444,
              "#bd3786"
             ],
             [
              0.5555555555555556,
              "#d8576b"
             ],
             [
              0.6666666666666666,
              "#ed7953"
             ],
             [
              0.7777777777777778,
              "#fb9f3a"
             ],
             [
              0.8888888888888888,
              "#fdca26"
             ],
             [
              1,
              "#f0f921"
             ]
            ],
            "type": "heatmapgl"
           }
          ],
          "histogram": [
           {
            "marker": {
             "pattern": {
              "fillmode": "overlay",
              "size": 10,
              "solidity": 0.2
             }
            },
            "type": "histogram"
           }
          ],
          "histogram2d": [
           {
            "colorbar": {
             "outlinewidth": 0,
             "ticks": ""
            },
            "colorscale": [
             [
              0,
              "#0d0887"
             ],
             [
              0.1111111111111111,
              "#46039f"
             ],
             [
              0.2222222222222222,
              "#7201a8"
             ],
             [
              0.3333333333333333,
              "#9c179e"
             ],
             [
              0.4444444444444444,
              "#bd3786"
             ],
             [
              0.5555555555555556,
              "#d8576b"
             ],
             [
              0.6666666666666666,
              "#ed7953"
             ],
             [
              0.7777777777777778,
              "#fb9f3a"
             ],
             [
              0.8888888888888888,
              "#fdca26"
             ],
             [
              1,
              "#f0f921"
             ]
            ],
            "type": "histogram2d"
           }
          ],
          "histogram2dcontour": [
           {
            "colorbar": {
             "outlinewidth": 0,
             "ticks": ""
            },
            "colorscale": [
             [
              0,
              "#0d0887"
             ],
             [
              0.1111111111111111,
              "#46039f"
             ],
             [
              0.2222222222222222,
              "#7201a8"
             ],
             [
              0.3333333333333333,
              "#9c179e"
             ],
             [
              0.4444444444444444,
              "#bd3786"
             ],
             [
              0.5555555555555556,
              "#d8576b"
             ],
             [
              0.6666666666666666,
              "#ed7953"
             ],
             [
              0.7777777777777778,
              "#fb9f3a"
             ],
             [
              0.8888888888888888,
              "#fdca26"
             ],
             [
              1,
              "#f0f921"
             ]
            ],
            "type": "histogram2dcontour"
           }
          ],
          "mesh3d": [
           {
            "colorbar": {
             "outlinewidth": 0,
             "ticks": ""
            },
            "type": "mesh3d"
           }
          ],
          "parcoords": [
           {
            "line": {
             "colorbar": {
              "outlinewidth": 0,
              "ticks": ""
             }
            },
            "type": "parcoords"
           }
          ],
          "pie": [
           {
            "automargin": true,
            "type": "pie"
           }
          ],
          "scatter": [
           {
            "fillpattern": {
             "fillmode": "overlay",
             "size": 10,
             "solidity": 0.2
            },
            "type": "scatter"
           }
          ],
          "scatter3d": [
           {
            "line": {
             "colorbar": {
              "outlinewidth": 0,
              "ticks": ""
             }
            },
            "marker": {
             "colorbar": {
              "outlinewidth": 0,
              "ticks": ""
             }
            },
            "type": "scatter3d"
           }
          ],
          "scattercarpet": [
           {
            "marker": {
             "colorbar": {
              "outlinewidth": 0,
              "ticks": ""
             }
            },
            "type": "scattercarpet"
           }
          ],
          "scattergeo": [
           {
            "marker": {
             "colorbar": {
              "outlinewidth": 0,
              "ticks": ""
             }
            },
            "type": "scattergeo"
           }
          ],
          "scattergl": [
           {
            "marker": {
             "colorbar": {
              "outlinewidth": 0,
              "ticks": ""
             }
            },
            "type": "scattergl"
           }
          ],
          "scattermapbox": [
           {
            "marker": {
             "colorbar": {
              "outlinewidth": 0,
              "ticks": ""
             }
            },
            "type": "scattermapbox"
           }
          ],
          "scatterpolar": [
           {
            "marker": {
             "colorbar": {
              "outlinewidth": 0,
              "ticks": ""
             }
            },
            "type": "scatterpolar"
           }
          ],
          "scatterpolargl": [
           {
            "marker": {
             "colorbar": {
              "outlinewidth": 0,
              "ticks": ""
             }
            },
            "type": "scatterpolargl"
           }
          ],
          "scatterternary": [
           {
            "marker": {
             "colorbar": {
              "outlinewidth": 0,
              "ticks": ""
             }
            },
            "type": "scatterternary"
           }
          ],
          "surface": [
           {
            "colorbar": {
             "outlinewidth": 0,
             "ticks": ""
            },
            "colorscale": [
             [
              0,
              "#0d0887"
             ],
             [
              0.1111111111111111,
              "#46039f"
             ],
             [
              0.2222222222222222,
              "#7201a8"
             ],
             [
              0.3333333333333333,
              "#9c179e"
             ],
             [
              0.4444444444444444,
              "#bd3786"
             ],
             [
              0.5555555555555556,
              "#d8576b"
             ],
             [
              0.6666666666666666,
              "#ed7953"
             ],
             [
              0.7777777777777778,
              "#fb9f3a"
             ],
             [
              0.8888888888888888,
              "#fdca26"
             ],
             [
              1,
              "#f0f921"
             ]
            ],
            "type": "surface"
           }
          ],
          "table": [
           {
            "cells": {
             "fill": {
              "color": "#EBF0F8"
             },
             "line": {
              "color": "white"
             }
            },
            "header": {
             "fill": {
              "color": "#C8D4E3"
             },
             "line": {
              "color": "white"
             }
            },
            "type": "table"
           }
          ]
         },
         "layout": {
          "annotationdefaults": {
           "arrowcolor": "#2a3f5f",
           "arrowhead": 0,
           "arrowwidth": 1
          },
          "autotypenumbers": "strict",
          "coloraxis": {
           "colorbar": {
            "outlinewidth": 0,
            "ticks": ""
           }
          },
          "colorscale": {
           "diverging": [
            [
             0,
             "#8e0152"
            ],
            [
             0.1,
             "#c51b7d"
            ],
            [
             0.2,
             "#de77ae"
            ],
            [
             0.3,
             "#f1b6da"
            ],
            [
             0.4,
             "#fde0ef"
            ],
            [
             0.5,
             "#f7f7f7"
            ],
            [
             0.6,
             "#e6f5d0"
            ],
            [
             0.7,
             "#b8e186"
            ],
            [
             0.8,
             "#7fbc41"
            ],
            [
             0.9,
             "#4d9221"
            ],
            [
             1,
             "#276419"
            ]
           ],
           "sequential": [
            [
             0,
             "#0d0887"
            ],
            [
             0.1111111111111111,
             "#46039f"
            ],
            [
             0.2222222222222222,
             "#7201a8"
            ],
            [
             0.3333333333333333,
             "#9c179e"
            ],
            [
             0.4444444444444444,
             "#bd3786"
            ],
            [
             0.5555555555555556,
             "#d8576b"
            ],
            [
             0.6666666666666666,
             "#ed7953"
            ],
            [
             0.7777777777777778,
             "#fb9f3a"
            ],
            [
             0.8888888888888888,
             "#fdca26"
            ],
            [
             1,
             "#f0f921"
            ]
           ],
           "sequentialminus": [
            [
             0,
             "#0d0887"
            ],
            [
             0.1111111111111111,
             "#46039f"
            ],
            [
             0.2222222222222222,
             "#7201a8"
            ],
            [
             0.3333333333333333,
             "#9c179e"
            ],
            [
             0.4444444444444444,
             "#bd3786"
            ],
            [
             0.5555555555555556,
             "#d8576b"
            ],
            [
             0.6666666666666666,
             "#ed7953"
            ],
            [
             0.7777777777777778,
             "#fb9f3a"
            ],
            [
             0.8888888888888888,
             "#fdca26"
            ],
            [
             1,
             "#f0f921"
            ]
           ]
          },
          "colorway": [
           "#636efa",
           "#EF553B",
           "#00cc96",
           "#ab63fa",
           "#FFA15A",
           "#19d3f3",
           "#FF6692",
           "#B6E880",
           "#FF97FF",
           "#FECB52"
          ],
          "font": {
           "color": "#2a3f5f"
          },
          "geo": {
           "bgcolor": "white",
           "lakecolor": "white",
           "landcolor": "#E5ECF6",
           "showlakes": true,
           "showland": true,
           "subunitcolor": "white"
          },
          "hoverlabel": {
           "align": "left"
          },
          "hovermode": "closest",
          "mapbox": {
           "style": "light"
          },
          "paper_bgcolor": "white",
          "plot_bgcolor": "#E5ECF6",
          "polar": {
           "angularaxis": {
            "gridcolor": "white",
            "linecolor": "white",
            "ticks": ""
           },
           "bgcolor": "#E5ECF6",
           "radialaxis": {
            "gridcolor": "white",
            "linecolor": "white",
            "ticks": ""
           }
          },
          "scene": {
           "xaxis": {
            "backgroundcolor": "#E5ECF6",
            "gridcolor": "white",
            "gridwidth": 2,
            "linecolor": "white",
            "showbackground": true,
            "ticks": "",
            "zerolinecolor": "white"
           },
           "yaxis": {
            "backgroundcolor": "#E5ECF6",
            "gridcolor": "white",
            "gridwidth": 2,
            "linecolor": "white",
            "showbackground": true,
            "ticks": "",
            "zerolinecolor": "white"
           },
           "zaxis": {
            "backgroundcolor": "#E5ECF6",
            "gridcolor": "white",
            "gridwidth": 2,
            "linecolor": "white",
            "showbackground": true,
            "ticks": "",
            "zerolinecolor": "white"
           }
          },
          "shapedefaults": {
           "line": {
            "color": "#2a3f5f"
           }
          },
          "ternary": {
           "aaxis": {
            "gridcolor": "white",
            "linecolor": "white",
            "ticks": ""
           },
           "baxis": {
            "gridcolor": "white",
            "linecolor": "white",
            "ticks": ""
           },
           "bgcolor": "#E5ECF6",
           "caxis": {
            "gridcolor": "white",
            "linecolor": "white",
            "ticks": ""
           }
          },
          "title": {
           "x": 0.05
          },
          "xaxis": {
           "automargin": true,
           "gridcolor": "white",
           "linecolor": "white",
           "ticks": "",
           "title": {
            "standoff": 15
           },
           "zerolinecolor": "white",
           "zerolinewidth": 2
          },
          "yaxis": {
           "automargin": true,
           "gridcolor": "white",
           "linecolor": "white",
           "ticks": "",
           "title": {
            "standoff": 15
           },
           "zerolinecolor": "white",
           "zerolinewidth": 2
          }
         }
        }
       }
      }
     },
     "metadata": {},
     "output_type": "display_data"
    }
   ],
   "source": [
    "fig = px.pie(labels_df_volc,  values='Type', names='type_cat')\n",
    "fig.show()"
   ]
  },
  {
   "cell_type": "markdown",
   "metadata": {},
   "source": [
    "#### Radius\n",
    "\n",
    "Thhe figure below plots Radius distribution."
   ]
  },
  {
   "cell_type": "code",
   "execution_count": 23,
   "metadata": {},
   "outputs": [
    {
     "data": {
      "application/vnd.plotly.v1+json": {
       "config": {
        "plotlyServerURL": "https://plot.ly"
       },
       "data": [
        {
         "alignmentgroup": "True",
         "bingroup": "x",
         "hovertemplate": "Radius=%{x}<br>count=%{y}<extra></extra>",
         "legendgroup": "",
         "marker": {
          "color": "#636efa",
          "pattern": {
           "shape": ""
          }
         },
         "name": "",
         "offsetgroup": "",
         "orientation": "v",
         "showlegend": false,
         "type": "histogram",
         "x": [
          17.46,
          22.02,
          14.76,
          6.4,
          21.63,
          19.31,
          16.12,
          30.23,
          8,
          29.73,
          4.24,
          10.63,
          3.16,
          4.24,
          5.83,
          25.32,
          12.81,
          13.45,
          34,
          27.290001,
          31.11,
          8.6,
          6.4,
          2.24,
          5.66,
          5.1,
          5.39,
          27.59,
          14.56,
          7.07,
          6.71,
          18.030001,
          19.1,
          37.16,
          34.67,
          11.05,
          2.83,
          26.08,
          26.93,
          31.62,
          20.1,
          32.02,
          19.72,
          18.379999,
          10.63,
          34.41,
          5,
          6.4,
          6.4,
          19.8,
          36.36,
          30.02,
          11.18,
          25.61,
          11.66,
          23.43,
          3.61,
          5.39,
          17.89,
          22.2,
          10.82,
          21.93,
          10.44,
          29.530001,
          30.68,
          5,
          12.21,
          20.62,
          30,
          29.07,
          4.12,
          24.08,
          5.39,
          21.02,
          4.24,
          15.52,
          33.94,
          24.33,
          2.24,
          36.89,
          5.39,
          24.33,
          20.52,
          5,
          6.08,
          3.61,
          7.07,
          21.54,
          46.82,
          45.61,
          20.59,
          22.2,
          8,
          22.8,
          13.6,
          27.31,
          23.6,
          25.46,
          3.61,
          4.24,
          19.1,
          5.39,
          7.21,
          6.32,
          34.01,
          24.84,
          5.83,
          12.17,
          24.7,
          21.1,
          20.120001,
          22.360001,
          11,
          25.61,
          4.24,
          32.56,
          20.81,
          49.24,
          41.68,
          6.71,
          5.39,
          37.64,
          12.73,
          21.54,
          5.83,
          18.25,
          30.81,
          82.98,
          6.32,
          26.63,
          2,
          12.04,
          87.66,
          23.54,
          34.66,
          29.68,
          23.71,
          18.44,
          23.26,
          7.62,
          6.32,
          13.42,
          5,
          16.55,
          4.24,
          2.83,
          16.28,
          21.63,
          60.44,
          76.690002,
          25.809999,
          16.76,
          12.04,
          30,
          18.38,
          17.8,
          4.47,
          28.79,
          11.18,
          23.85,
          28.32,
          27.31,
          15.62,
          38.59,
          30,
          18.379999,
          4.47,
          22.8,
          40.61,
          65.22,
          9.22,
          21.93,
          23.77,
          24.84,
          5.83,
          34,
          8.94,
          39.29,
          7.62,
          20.25,
          14.04,
          17.26,
          17.03,
          32.98,
          5.66,
          5,
          19.24,
          8.06,
          3.61,
          26.93,
          19.21,
          2.24,
          16.03,
          13.89,
          29.21,
          24.19,
          23.32,
          7.21,
          11.05,
          7.07,
          5,
          11.18,
          27.2,
          23.77,
          4.24,
          6.4,
          3.16,
          20.81,
          5.39,
          26.4,
          2.83,
          22.83,
          15.62,
          7.62,
          16.55,
          32.7,
          10.05,
          21.95,
          14.14,
          39.05,
          18.38,
          5,
          3.61,
          13.93,
          6.71,
          44.94,
          29.15,
          8,
          7.62,
          3.61,
          18.6,
          13.6,
          5.66,
          5.39,
          7.81,
          4.24,
          21.93,
          19.21,
          29.43,
          2.83,
          27.2,
          4.24,
          2.83,
          13.89,
          6.32,
          10.63,
          5.39,
          4.24,
          3.61,
          5.83,
          4.24,
          9.43,
          32.2,
          19.21,
          24.08,
          15.26,
          11.66,
          5.1,
          30.53,
          12.21,
          12.53,
          15.23,
          19.1,
          4.24,
          36.62,
          19.72,
          5.83,
          5.39,
          36.89,
          8.94,
          23.43,
          3.61,
          21.190001,
          19.31,
          4.47,
          8,
          23.77,
          5.1,
          6.32,
          30.41,
          5.39,
          2.24,
          33.24,
          20.620001,
          17,
          2.83,
          39.66,
          5.83,
          4.24,
          20.62,
          8.6,
          28.23,
          8.6,
          34.54,
          4.24,
          11.31,
          11.18,
          24.17,
          3.16,
          30.23,
          21.02,
          15.62,
          21.95,
          17.03,
          1.41,
          23.19,
          25.81,
          24.41,
          9.85,
          24.7,
          5.83,
          22.02,
          17.09,
          13.42,
          2.24,
          22.2,
          5,
          5.83,
          4.24,
          6.08,
          8,
          9.43,
          19.85,
          5,
          32.06,
          6.32,
          23.85,
          2.24,
          4,
          18.03,
          23.43,
          17,
          23.26,
          7.07,
          17.2,
          22.67,
          5,
          6.08,
          4.24,
          38.29,
          36.62,
          20.81,
          43.93,
          8.25,
          23.85,
          10.44,
          38.9,
          4.47,
          30.15,
          23.41,
          5,
          11.18,
          14.87,
          23.35,
          20.62,
          24.04,
          4.47,
          8.94,
          21.95,
          7.07,
          8.94,
          17.89,
          49.77,
          2.24,
          14.87,
          10.63,
          32.650002,
          3,
          12.04,
          16.969998999999998,
          12.04,
          22.2,
          22.67,
          20.62,
          13.6,
          20.62,
          31.139999,
          6.71,
          8.25,
          33.12,
          13.04,
          4.24,
          6.71,
          17,
          3,
          4,
          31.3,
          11.4,
          18.379999,
          40,
          16.76,
          14.42,
          3.61,
          8.06,
          5.66,
          5.1,
          2,
          23.43,
          23.6,
          31.89,
          9.22,
          7.62,
          5.83,
          4.24,
          1.41,
          21.21,
          30.41,
          4.12,
          2.83,
          4.24,
          26.63,
          22.47,
          5,
          5.39,
          20.62,
          2.24,
          22.8,
          58.82,
          57.45,
          5.83,
          6.71,
          12.37,
          6.4,
          20.120001,
          20.620001,
          29.97,
          8,
          22.83,
          21.59,
          10.82,
          15.62,
          13.6,
          13,
          26.02,
          34.13,
          4.47,
          9.06,
          2,
          41.59,
          5.39,
          7.07,
          1.41,
          6.71,
          28.84,
          2.24,
          19.1,
          18.110001,
          19.42,
          29.12,
          2.83,
          15.81,
          5.39,
          31.24,
          3.61,
          9.22,
          8.6,
          20.81,
          6.08,
          9.49,
          10.82,
          5.83,
          5,
          30.48,
          13.6,
          17,
          41.11,
          4.12,
          12.53,
          7.07,
          22.83,
          32.200001,
          28.43,
          7.07,
          2.83,
          12.21,
          28.18,
          4.12,
          7.21,
          34.41,
          12.81,
          6.32,
          6.4,
          11.4,
          23.19,
          2.83,
          5,
          12.65,
          3,
          16.16,
          13.6,
          23.6,
          4.24,
          10.3,
          5,
          36.8,
          19.8,
          28.02,
          22.36,
          7.07,
          30.81,
          6.4,
          22.36,
          3.61,
          27.200001,
          27.2,
          22.67,
          10.77,
          12.53,
          31.24,
          24.6,
          19.42,
          14.21,
          18.38,
          14.87,
          14.87,
          31.02,
          25.629999,
          2,
          3.61,
          37.36,
          4.24,
          21.02,
          17.12,
          2.24,
          19.21,
          9.22,
          16.4,
          29.73,
          11.7,
          22.8,
          14.76,
          5,
          8.49,
          29,
          4.24,
          4.12,
          9.43,
          23.190001,
          5,
          5.39,
          11,
          5,
          3.61,
          5,
          14.87,
          5,
          18.36,
          2.83,
          9.85,
          5,
          24.7,
          25.610001,
          26.4,
          8.06,
          27.46,
          22.83,
          12.04,
          11.31,
          2.83,
          21.26,
          4.47,
          22.36,
          19.72,
          2.83,
          24.35,
          12.08,
          29.15,
          11.18,
          14.21,
          33.97,
          31.06,
          35,
          33.24,
          16.64,
          20.81,
          12.73,
          26.57,
          13.89,
          50.09,
          26.4,
          27.2,
          3.61,
          25.5,
          15.81,
          15.26,
          13.93,
          29.07,
          29.27,
          5.83,
          33.62,
          5.39,
          15.65,
          5.1,
          6.4,
          30,
          2.24,
          19.7,
          2.24,
          17.69,
          9.85,
          23.85,
          16.16,
          22.2,
          35.51,
          4.47,
          6.71,
          17.120001000000002,
          29.07,
          18.38,
          18.79,
          34.67,
          14.21,
          9.06,
          4.47,
          18.44,
          22.02,
          28.3,
          18.38,
          5.83,
          27.31,
          24.84,
          10.3,
          23.85,
          4.24,
          7.81,
          5,
          11.18,
          7.07,
          20.62,
          7.81,
          21.59,
          23.32,
          21.21,
          6.4,
          14.76,
          32.25,
          20.4,
          39.45,
          7.07,
          7.21,
          12.73,
          5,
          12.81,
          4.12,
          28.18,
          29.61,
          5,
          16.12,
          30,
          4.12,
          2.24,
          25.5,
          13.45,
          18.6,
          20.02,
          13.89,
          3.61,
          21.19,
          5.39,
          26.83,
          16.03,
          20.81,
          15,
          4.24,
          27.2,
          19.72,
          17.46,
          4.47,
          5.39,
          25.81,
          5.39,
          30.08,
          25.5,
          6.71,
          6.4,
          6.08,
          6,
          17.8,
          19.8,
          22.83,
          24,
          29.27,
          7.21,
          27.2,
          32.65,
          5.83,
          16.28,
          21.63,
          17.2,
          3.61,
          3.61,
          16.4,
          1.41,
          10.63,
          4.47,
          4.24,
          30.07,
          7.07,
          6.08,
          14.42,
          16.4,
          19.1,
          16.76,
          16.12,
          19.1,
          2,
          18.110001,
          45.12,
          5.66,
          16.64,
          23.85,
          1.41,
          23.09,
          2.83,
          4.12,
          20.25,
          25.5,
          5,
          18.44,
          10.3,
          34.71,
          25.08,
          21.93,
          5.39,
          17.799999,
          3.16,
          18.44,
          23.41,
          32.200001,
          2.24,
          4.12,
          3.61,
          32.2,
          6.4,
          25.610001,
          18.379999,
          3.61,
          13.45,
          4.24,
          20.59,
          5,
          25.5,
          29.83,
          21.1,
          19.42,
          5.83,
          8.6,
          23.6,
          2.24,
          5.66,
          6.4,
          3.61,
          14.14,
          20,
          10.63,
          13.93,
          26.309999,
          2.83,
          3.61,
          7.28,
          12.04,
          5.83,
          13.6,
          5,
          20.02,
          6.32,
          5.39,
          4.12,
          5.83,
          2.83,
          15.13,
          12.81,
          30.53,
          7.81,
          22.8,
          17.09,
          2.83,
          6.32,
          5.39,
          21.95,
          26.93,
          14.56,
          25.5,
          7.62,
          2.83,
          27.2,
          6,
          13.04,
          11.66,
          24.04,
          36.400002,
          13.45,
          17.49,
          21.19,
          26.57,
          21.469999,
          16.4,
          4.12,
          36.12,
          2.83,
          26.4,
          12.08,
          4.24,
          24.7,
          2.83,
          33.619999,
          21.19,
          4.47,
          13.93,
          5.83,
          5.66,
          43.29,
          25.5,
          9.49,
          5,
          24.19,
          14.42,
          20.62,
          24.21,
          32.89,
          15.81,
          8.94,
          22.47,
          6.71,
          20.62,
          13,
          18.44,
          34.53,
          18.6,
          6.71,
          6.08,
          34.93,
          16.76,
          4.12,
          4.12,
          9.22,
          5.39,
          7.21,
          5,
          2.83,
          55.11,
          28.23,
          4.47,
          12.21,
          17,
          29.73,
          19.24,
          34.06,
          34.06,
          4.47,
          3.61,
          24.21,
          4.12,
          23.540001,
          56.4,
          14.87,
          17.69,
          4.47,
          24.04,
          34.66,
          32.389999,
          23.35,
          17.89,
          43.46,
          13.6,
          2.83,
          21.93,
          2.83,
          20.22,
          12.04,
          2.83,
          20.120001,
          32.560001,
          6.32,
          26.42,
          9.22,
          20.62,
          5.39,
          5.66,
          5,
          5.39,
          16.55,
          3.61,
          2.83,
          9.22,
          17.72,
          2.83,
          27.46,
          2,
          5,
          11.18,
          18.379999,
          7.81,
          2.83,
          24.04,
          20.62,
          39.05,
          27.66,
          2.24,
          21.93,
          1,
          5.83,
          31.02,
          16.28,
          4.24,
          1.41,
          5.83,
          25.08,
          36.77,
          24.76,
          5.39,
          20.59,
          13.6,
          7,
          2.83,
          2.83,
          12.81,
          18.030001,
          19.42,
          26.4,
          5.83,
          5,
          4.47,
          6.08,
          16.64,
          2.24,
          25.55,
          6,
          6.08,
          2.83,
          36.24,
          20.620001,
          22.8,
          5.66,
          4.12,
          15.62,
          4.12,
          12.21,
          22.2,
          26.309999,
          4.24,
          2,
          40.5,
          34.18,
          25.46,
          5,
          4.47,
          19.42,
          18.6,
          3.61,
          2,
          11.18,
          30.81,
          5.39,
          3.61,
          8.6,
          17.89,
          16.28,
          2.24,
          21.93,
          26,
          4.12,
          5,
          5.83,
          42.05,
          2,
          21.93,
          26.57,
          7.81,
          23.43,
          13.42,
          15.26,
          4.24,
          9.9,
          20,
          6.32,
          19.1,
          28.79,
          26.68,
          5.1,
          18.03,
          12.81,
          14.14,
          17.03,
          22.2,
          5,
          21.59,
          16.12,
          7.07,
          24.08,
          36.25,
          41.76,
          21.95,
          2.24,
          13.89,
          25.5,
          21.1,
          4,
          27.02,
          4.47
         ],
         "xaxis": "x",
         "yaxis": "y"
        }
       ],
       "layout": {
        "barmode": "relative",
        "legend": {
         "tracegroupgap": 0
        },
        "margin": {
         "t": 60
        },
        "template": {
         "data": {
          "bar": [
           {
            "error_x": {
             "color": "#2a3f5f"
            },
            "error_y": {
             "color": "#2a3f5f"
            },
            "marker": {
             "line": {
              "color": "#E5ECF6",
              "width": 0.5
             },
             "pattern": {
              "fillmode": "overlay",
              "size": 10,
              "solidity": 0.2
             }
            },
            "type": "bar"
           }
          ],
          "barpolar": [
           {
            "marker": {
             "line": {
              "color": "#E5ECF6",
              "width": 0.5
             },
             "pattern": {
              "fillmode": "overlay",
              "size": 10,
              "solidity": 0.2
             }
            },
            "type": "barpolar"
           }
          ],
          "carpet": [
           {
            "aaxis": {
             "endlinecolor": "#2a3f5f",
             "gridcolor": "white",
             "linecolor": "white",
             "minorgridcolor": "white",
             "startlinecolor": "#2a3f5f"
            },
            "baxis": {
             "endlinecolor": "#2a3f5f",
             "gridcolor": "white",
             "linecolor": "white",
             "minorgridcolor": "white",
             "startlinecolor": "#2a3f5f"
            },
            "type": "carpet"
           }
          ],
          "choropleth": [
           {
            "colorbar": {
             "outlinewidth": 0,
             "ticks": ""
            },
            "type": "choropleth"
           }
          ],
          "contour": [
           {
            "colorbar": {
             "outlinewidth": 0,
             "ticks": ""
            },
            "colorscale": [
             [
              0,
              "#0d0887"
             ],
             [
              0.1111111111111111,
              "#46039f"
             ],
             [
              0.2222222222222222,
              "#7201a8"
             ],
             [
              0.3333333333333333,
              "#9c179e"
             ],
             [
              0.4444444444444444,
              "#bd3786"
             ],
             [
              0.5555555555555556,
              "#d8576b"
             ],
             [
              0.6666666666666666,
              "#ed7953"
             ],
             [
              0.7777777777777778,
              "#fb9f3a"
             ],
             [
              0.8888888888888888,
              "#fdca26"
             ],
             [
              1,
              "#f0f921"
             ]
            ],
            "type": "contour"
           }
          ],
          "contourcarpet": [
           {
            "colorbar": {
             "outlinewidth": 0,
             "ticks": ""
            },
            "type": "contourcarpet"
           }
          ],
          "heatmap": [
           {
            "colorbar": {
             "outlinewidth": 0,
             "ticks": ""
            },
            "colorscale": [
             [
              0,
              "#0d0887"
             ],
             [
              0.1111111111111111,
              "#46039f"
             ],
             [
              0.2222222222222222,
              "#7201a8"
             ],
             [
              0.3333333333333333,
              "#9c179e"
             ],
             [
              0.4444444444444444,
              "#bd3786"
             ],
             [
              0.5555555555555556,
              "#d8576b"
             ],
             [
              0.6666666666666666,
              "#ed7953"
             ],
             [
              0.7777777777777778,
              "#fb9f3a"
             ],
             [
              0.8888888888888888,
              "#fdca26"
             ],
             [
              1,
              "#f0f921"
             ]
            ],
            "type": "heatmap"
           }
          ],
          "heatmapgl": [
           {
            "colorbar": {
             "outlinewidth": 0,
             "ticks": ""
            },
            "colorscale": [
             [
              0,
              "#0d0887"
             ],
             [
              0.1111111111111111,
              "#46039f"
             ],
             [
              0.2222222222222222,
              "#7201a8"
             ],
             [
              0.3333333333333333,
              "#9c179e"
             ],
             [
              0.4444444444444444,
              "#bd3786"
             ],
             [
              0.5555555555555556,
              "#d8576b"
             ],
             [
              0.6666666666666666,
              "#ed7953"
             ],
             [
              0.7777777777777778,
              "#fb9f3a"
             ],
             [
              0.8888888888888888,
              "#fdca26"
             ],
             [
              1,
              "#f0f921"
             ]
            ],
            "type": "heatmapgl"
           }
          ],
          "histogram": [
           {
            "marker": {
             "pattern": {
              "fillmode": "overlay",
              "size": 10,
              "solidity": 0.2
             }
            },
            "type": "histogram"
           }
          ],
          "histogram2d": [
           {
            "colorbar": {
             "outlinewidth": 0,
             "ticks": ""
            },
            "colorscale": [
             [
              0,
              "#0d0887"
             ],
             [
              0.1111111111111111,
              "#46039f"
             ],
             [
              0.2222222222222222,
              "#7201a8"
             ],
             [
              0.3333333333333333,
              "#9c179e"
             ],
             [
              0.4444444444444444,
              "#bd3786"
             ],
             [
              0.5555555555555556,
              "#d8576b"
             ],
             [
              0.6666666666666666,
              "#ed7953"
             ],
             [
              0.7777777777777778,
              "#fb9f3a"
             ],
             [
              0.8888888888888888,
              "#fdca26"
             ],
             [
              1,
              "#f0f921"
             ]
            ],
            "type": "histogram2d"
           }
          ],
          "histogram2dcontour": [
           {
            "colorbar": {
             "outlinewidth": 0,
             "ticks": ""
            },
            "colorscale": [
             [
              0,
              "#0d0887"
             ],
             [
              0.1111111111111111,
              "#46039f"
             ],
             [
              0.2222222222222222,
              "#7201a8"
             ],
             [
              0.3333333333333333,
              "#9c179e"
             ],
             [
              0.4444444444444444,
              "#bd3786"
             ],
             [
              0.5555555555555556,
              "#d8576b"
             ],
             [
              0.6666666666666666,
              "#ed7953"
             ],
             [
              0.7777777777777778,
              "#fb9f3a"
             ],
             [
              0.8888888888888888,
              "#fdca26"
             ],
             [
              1,
              "#f0f921"
             ]
            ],
            "type": "histogram2dcontour"
           }
          ],
          "mesh3d": [
           {
            "colorbar": {
             "outlinewidth": 0,
             "ticks": ""
            },
            "type": "mesh3d"
           }
          ],
          "parcoords": [
           {
            "line": {
             "colorbar": {
              "outlinewidth": 0,
              "ticks": ""
             }
            },
            "type": "parcoords"
           }
          ],
          "pie": [
           {
            "automargin": true,
            "type": "pie"
           }
          ],
          "scatter": [
           {
            "fillpattern": {
             "fillmode": "overlay",
             "size": 10,
             "solidity": 0.2
            },
            "type": "scatter"
           }
          ],
          "scatter3d": [
           {
            "line": {
             "colorbar": {
              "outlinewidth": 0,
              "ticks": ""
             }
            },
            "marker": {
             "colorbar": {
              "outlinewidth": 0,
              "ticks": ""
             }
            },
            "type": "scatter3d"
           }
          ],
          "scattercarpet": [
           {
            "marker": {
             "colorbar": {
              "outlinewidth": 0,
              "ticks": ""
             }
            },
            "type": "scattercarpet"
           }
          ],
          "scattergeo": [
           {
            "marker": {
             "colorbar": {
              "outlinewidth": 0,
              "ticks": ""
             }
            },
            "type": "scattergeo"
           }
          ],
          "scattergl": [
           {
            "marker": {
             "colorbar": {
              "outlinewidth": 0,
              "ticks": ""
             }
            },
            "type": "scattergl"
           }
          ],
          "scattermapbox": [
           {
            "marker": {
             "colorbar": {
              "outlinewidth": 0,
              "ticks": ""
             }
            },
            "type": "scattermapbox"
           }
          ],
          "scatterpolar": [
           {
            "marker": {
             "colorbar": {
              "outlinewidth": 0,
              "ticks": ""
             }
            },
            "type": "scatterpolar"
           }
          ],
          "scatterpolargl": [
           {
            "marker": {
             "colorbar": {
              "outlinewidth": 0,
              "ticks": ""
             }
            },
            "type": "scatterpolargl"
           }
          ],
          "scatterternary": [
           {
            "marker": {
             "colorbar": {
              "outlinewidth": 0,
              "ticks": ""
             }
            },
            "type": "scatterternary"
           }
          ],
          "surface": [
           {
            "colorbar": {
             "outlinewidth": 0,
             "ticks": ""
            },
            "colorscale": [
             [
              0,
              "#0d0887"
             ],
             [
              0.1111111111111111,
              "#46039f"
             ],
             [
              0.2222222222222222,
              "#7201a8"
             ],
             [
              0.3333333333333333,
              "#9c179e"
             ],
             [
              0.4444444444444444,
              "#bd3786"
             ],
             [
              0.5555555555555556,
              "#d8576b"
             ],
             [
              0.6666666666666666,
              "#ed7953"
             ],
             [
              0.7777777777777778,
              "#fb9f3a"
             ],
             [
              0.8888888888888888,
              "#fdca26"
             ],
             [
              1,
              "#f0f921"
             ]
            ],
            "type": "surface"
           }
          ],
          "table": [
           {
            "cells": {
             "fill": {
              "color": "#EBF0F8"
             },
             "line": {
              "color": "white"
             }
            },
            "header": {
             "fill": {
              "color": "#C8D4E3"
             },
             "line": {
              "color": "white"
             }
            },
            "type": "table"
           }
          ]
         },
         "layout": {
          "annotationdefaults": {
           "arrowcolor": "#2a3f5f",
           "arrowhead": 0,
           "arrowwidth": 1
          },
          "autotypenumbers": "strict",
          "coloraxis": {
           "colorbar": {
            "outlinewidth": 0,
            "ticks": ""
           }
          },
          "colorscale": {
           "diverging": [
            [
             0,
             "#8e0152"
            ],
            [
             0.1,
             "#c51b7d"
            ],
            [
             0.2,
             "#de77ae"
            ],
            [
             0.3,
             "#f1b6da"
            ],
            [
             0.4,
             "#fde0ef"
            ],
            [
             0.5,
             "#f7f7f7"
            ],
            [
             0.6,
             "#e6f5d0"
            ],
            [
             0.7,
             "#b8e186"
            ],
            [
             0.8,
             "#7fbc41"
            ],
            [
             0.9,
             "#4d9221"
            ],
            [
             1,
             "#276419"
            ]
           ],
           "sequential": [
            [
             0,
             "#0d0887"
            ],
            [
             0.1111111111111111,
             "#46039f"
            ],
            [
             0.2222222222222222,
             "#7201a8"
            ],
            [
             0.3333333333333333,
             "#9c179e"
            ],
            [
             0.4444444444444444,
             "#bd3786"
            ],
            [
             0.5555555555555556,
             "#d8576b"
            ],
            [
             0.6666666666666666,
             "#ed7953"
            ],
            [
             0.7777777777777778,
             "#fb9f3a"
            ],
            [
             0.8888888888888888,
             "#fdca26"
            ],
            [
             1,
             "#f0f921"
            ]
           ],
           "sequentialminus": [
            [
             0,
             "#0d0887"
            ],
            [
             0.1111111111111111,
             "#46039f"
            ],
            [
             0.2222222222222222,
             "#7201a8"
            ],
            [
             0.3333333333333333,
             "#9c179e"
            ],
            [
             0.4444444444444444,
             "#bd3786"
            ],
            [
             0.5555555555555556,
             "#d8576b"
            ],
            [
             0.6666666666666666,
             "#ed7953"
            ],
            [
             0.7777777777777778,
             "#fb9f3a"
            ],
            [
             0.8888888888888888,
             "#fdca26"
            ],
            [
             1,
             "#f0f921"
            ]
           ]
          },
          "colorway": [
           "#636efa",
           "#EF553B",
           "#00cc96",
           "#ab63fa",
           "#FFA15A",
           "#19d3f3",
           "#FF6692",
           "#B6E880",
           "#FF97FF",
           "#FECB52"
          ],
          "font": {
           "color": "#2a3f5f"
          },
          "geo": {
           "bgcolor": "white",
           "lakecolor": "white",
           "landcolor": "#E5ECF6",
           "showlakes": true,
           "showland": true,
           "subunitcolor": "white"
          },
          "hoverlabel": {
           "align": "left"
          },
          "hovermode": "closest",
          "mapbox": {
           "style": "light"
          },
          "paper_bgcolor": "white",
          "plot_bgcolor": "#E5ECF6",
          "polar": {
           "angularaxis": {
            "gridcolor": "white",
            "linecolor": "white",
            "ticks": ""
           },
           "bgcolor": "#E5ECF6",
           "radialaxis": {
            "gridcolor": "white",
            "linecolor": "white",
            "ticks": ""
           }
          },
          "scene": {
           "xaxis": {
            "backgroundcolor": "#E5ECF6",
            "gridcolor": "white",
            "gridwidth": 2,
            "linecolor": "white",
            "showbackground": true,
            "ticks": "",
            "zerolinecolor": "white"
           },
           "yaxis": {
            "backgroundcolor": "#E5ECF6",
            "gridcolor": "white",
            "gridwidth": 2,
            "linecolor": "white",
            "showbackground": true,
            "ticks": "",
            "zerolinecolor": "white"
           },
           "zaxis": {
            "backgroundcolor": "#E5ECF6",
            "gridcolor": "white",
            "gridwidth": 2,
            "linecolor": "white",
            "showbackground": true,
            "ticks": "",
            "zerolinecolor": "white"
           }
          },
          "shapedefaults": {
           "line": {
            "color": "#2a3f5f"
           }
          },
          "ternary": {
           "aaxis": {
            "gridcolor": "white",
            "linecolor": "white",
            "ticks": ""
           },
           "baxis": {
            "gridcolor": "white",
            "linecolor": "white",
            "ticks": ""
           },
           "bgcolor": "#E5ECF6",
           "caxis": {
            "gridcolor": "white",
            "linecolor": "white",
            "ticks": ""
           }
          },
          "title": {
           "x": 0.05
          },
          "xaxis": {
           "automargin": true,
           "gridcolor": "white",
           "linecolor": "white",
           "ticks": "",
           "title": {
            "standoff": 15
           },
           "zerolinecolor": "white",
           "zerolinewidth": 2
          },
          "yaxis": {
           "automargin": true,
           "gridcolor": "white",
           "linecolor": "white",
           "ticks": "",
           "title": {
            "standoff": 15
           },
           "zerolinecolor": "white",
           "zerolinewidth": 2
          }
         }
        },
        "xaxis": {
         "anchor": "y",
         "domain": [
          0,
          1
         ],
         "title": {
          "text": "Radius"
         }
        },
        "yaxis": {
         "anchor": "x",
         "domain": [
          0,
          1
         ],
         "title": {
          "text": "count"
         }
        }
       }
      }
     },
     "metadata": {},
     "output_type": "display_data"
    }
   ],
   "source": [
    "fig = px.histogram(labels_df_volc, x=\"Radius\")\n",
    "fig.show()"
   ]
  },
  {
   "cell_type": "markdown",
   "metadata": {},
   "source": [
    "#### Number Volcanoes\n",
    "\n",
    "Thhe figure below plots Number of Volcanoes distribution."
   ]
  },
  {
   "cell_type": "code",
   "execution_count": 24,
   "metadata": {},
   "outputs": [
    {
     "data": {
      "application/vnd.plotly.v1+json": {
       "config": {
        "plotlyServerURL": "https://plot.ly"
       },
       "data": [
        {
         "alignmentgroup": "True",
         "bingroup": "x",
         "hovertemplate": "Number Volcanoes=%{x}<br>count=%{y}<extra></extra>",
         "legendgroup": "",
         "marker": {
          "color": "#636efa",
          "pattern": {
           "shape": ""
          }
         },
         "name": "",
         "offsetgroup": "",
         "orientation": "v",
         "showlegend": false,
         "type": "histogram",
         "x": [
          1,
          1,
          1,
          1,
          2,
          1,
          1,
          1,
          2,
          1,
          1,
          2,
          1,
          1,
          1,
          1,
          1,
          1,
          1,
          1,
          1,
          1,
          1,
          1,
          1,
          1,
          1,
          1,
          1,
          1,
          1,
          2,
          1,
          1,
          1,
          2,
          1,
          1,
          1,
          1,
          1,
          1,
          1,
          1,
          2,
          1,
          1,
          1,
          2,
          1,
          1,
          1,
          1,
          1,
          1,
          1,
          4,
          1,
          1,
          1,
          1,
          1,
          1,
          1,
          1,
          1,
          1,
          1,
          1,
          1,
          1,
          1,
          1,
          2,
          1,
          1,
          2,
          3,
          3,
          1,
          1,
          1,
          1,
          1,
          1,
          1,
          1,
          1,
          1,
          2,
          1,
          1,
          1,
          1,
          2,
          1,
          1,
          1,
          2,
          1,
          1,
          1,
          1,
          1,
          1,
          1,
          5,
          1,
          1,
          1,
          3,
          1,
          1,
          1,
          2,
          1,
          2,
          1,
          1,
          1,
          1,
          1,
          2,
          1,
          1,
          1,
          1,
          1,
          2,
          1,
          4,
          3,
          1,
          1,
          1,
          1,
          1,
          1,
          1,
          4,
          1,
          1,
          1,
          1,
          2,
          1,
          1,
          2,
          2,
          1,
          1,
          2,
          1,
          1,
          1,
          2,
          3,
          1,
          1,
          1,
          1,
          1,
          2,
          1,
          1,
          1,
          2,
          1,
          1,
          1,
          1,
          2,
          1,
          1,
          2,
          1,
          1,
          1,
          1,
          1,
          2,
          1,
          1,
          1,
          2,
          1,
          1,
          1,
          1,
          1,
          1,
          1,
          1,
          1,
          1,
          1,
          1,
          1,
          1,
          1,
          1,
          2,
          1,
          2,
          1,
          5,
          3,
          1,
          1,
          1,
          1,
          2,
          1,
          1,
          1,
          1,
          1,
          1,
          2,
          1,
          2,
          1,
          1,
          1,
          3,
          1,
          1,
          1,
          1,
          2,
          1,
          1,
          1,
          1,
          1,
          1,
          1,
          2,
          1,
          1,
          1,
          2,
          1,
          1,
          3,
          1,
          1,
          1,
          1,
          2,
          1,
          3,
          1,
          1,
          1,
          1,
          2,
          1,
          2,
          1,
          2,
          1,
          1,
          1,
          1,
          1,
          1,
          1,
          1,
          1,
          1,
          1,
          2,
          1,
          1,
          2,
          1,
          1,
          1,
          1,
          1,
          1,
          1,
          1,
          1,
          1,
          1,
          1,
          1,
          2,
          1,
          1,
          1,
          1,
          1,
          2,
          1,
          1,
          1,
          1,
          1,
          1,
          1,
          1,
          1,
          1,
          1,
          1,
          1,
          1,
          1,
          1,
          1,
          1,
          1,
          2,
          1,
          2,
          2,
          1,
          2,
          2,
          1,
          1,
          1,
          1,
          1,
          1,
          1,
          1,
          1,
          2,
          1,
          1,
          1,
          1,
          1,
          1,
          1,
          1,
          1,
          1,
          1,
          1,
          1,
          2,
          1,
          1,
          1,
          1,
          1,
          1,
          1,
          1,
          1,
          1,
          1,
          3,
          2,
          1,
          1,
          1,
          1,
          2,
          2,
          1,
          1,
          1,
          1,
          2,
          1,
          1,
          1,
          1,
          1,
          1,
          1,
          1,
          1,
          1,
          2,
          2,
          1,
          1,
          1,
          1,
          1,
          1,
          1,
          1,
          1,
          1,
          1,
          1,
          2,
          1,
          1,
          2,
          1,
          1,
          1,
          1,
          1,
          1,
          2,
          1,
          1,
          1,
          2,
          1,
          1,
          1,
          1,
          2,
          1,
          2,
          1,
          1,
          1,
          1,
          1,
          1,
          1,
          1,
          1,
          1,
          1,
          1,
          1,
          1,
          1,
          1,
          1,
          1,
          1,
          1,
          1,
          2,
          1,
          1,
          1,
          2,
          1,
          1,
          1,
          1,
          2,
          1,
          1,
          3,
          1,
          1,
          1,
          1,
          1,
          1,
          1,
          1,
          1,
          1,
          1,
          1,
          1,
          1,
          1,
          1,
          3,
          1,
          2,
          1,
          1,
          1,
          1,
          1,
          1,
          1,
          1,
          1,
          1,
          1,
          1,
          1,
          1,
          1,
          2,
          1,
          1,
          1,
          1,
          2,
          1,
          2,
          1,
          1,
          1,
          1,
          1,
          1,
          3,
          1,
          1,
          1,
          2,
          2,
          1,
          2,
          1,
          1,
          1,
          1,
          1,
          1,
          2,
          2,
          1,
          1,
          1,
          2,
          1,
          1,
          1,
          1,
          2,
          1,
          1,
          1,
          1,
          1,
          1,
          1,
          1,
          1,
          1,
          1,
          1,
          1,
          1,
          1,
          1,
          1,
          1,
          1,
          1,
          2,
          1,
          2,
          2,
          4,
          1,
          1,
          1,
          1,
          1,
          1,
          1,
          1,
          1,
          1,
          1,
          2,
          1,
          1,
          1,
          2,
          1,
          2,
          1,
          1,
          1,
          1,
          1,
          1,
          1,
          1,
          1,
          1,
          1,
          1,
          1,
          1,
          1,
          1,
          1,
          1,
          1,
          2,
          1,
          1,
          1,
          1,
          2,
          1,
          1,
          1,
          1,
          1,
          1,
          1,
          1,
          1,
          1,
          1,
          1,
          1,
          1,
          1,
          1,
          1,
          1,
          1,
          1,
          1,
          1,
          1,
          1,
          1,
          1,
          1,
          1,
          1,
          1,
          1,
          1,
          1,
          2,
          1,
          1,
          1,
          1,
          1,
          1,
          1,
          1,
          1,
          1,
          1,
          1,
          1,
          1,
          1,
          1,
          1,
          1,
          1,
          1,
          1,
          3,
          1,
          1,
          2,
          3,
          1,
          3,
          1,
          1,
          2,
          1,
          1,
          1,
          1,
          3,
          1,
          1,
          1,
          2,
          1,
          1,
          1,
          1,
          1,
          1,
          1,
          1,
          1,
          1,
          1,
          1,
          2,
          1,
          1,
          1,
          1,
          1,
          1,
          1,
          2,
          1,
          1,
          2,
          2,
          1,
          1,
          3,
          1,
          1,
          1,
          1,
          1,
          1,
          1,
          2,
          1,
          1,
          1,
          1,
          1,
          2,
          1,
          1,
          1,
          1,
          3,
          3,
          1,
          1,
          1,
          1,
          1,
          1,
          2,
          1,
          1,
          2,
          1,
          1,
          2,
          1,
          1,
          1,
          2,
          1,
          1,
          1,
          1,
          1,
          1,
          2,
          1,
          1,
          2,
          1,
          1,
          1,
          2,
          1,
          1,
          1,
          1,
          1,
          1,
          2,
          2,
          1,
          2,
          1,
          1,
          1,
          1,
          2,
          1,
          1,
          1,
          1,
          1,
          1,
          2,
          1,
          2,
          1,
          2,
          1,
          1,
          2,
          1,
          1,
          1,
          3,
          1,
          1,
          1,
          1,
          1,
          1,
          1,
          4,
          1,
          1,
          1,
          1,
          1,
          1,
          1,
          1,
          1,
          1,
          2,
          1,
          1,
          1,
          3,
          2,
          2,
          1,
          2,
          4,
          1,
          1,
          2,
          1,
          1,
          1,
          2,
          1,
          2,
          2,
          1,
          1,
          1,
          1,
          1,
          1,
          1,
          1,
          1,
          1,
          1,
          1,
          1,
          1,
          2,
          1,
          1,
          1,
          1,
          1,
          1,
          1,
          1,
          1,
          1,
          1,
          1,
          1,
          2,
          1,
          1,
          1,
          1,
          1,
          2,
          2,
          1,
          2,
          1,
          1,
          2,
          1,
          3,
          1,
          1,
          1,
          2,
          2,
          1,
          2,
          3,
          1,
          1,
          2,
          1,
          2,
          1,
          1,
          2,
          1,
          2,
          1,
          2,
          1,
          2,
          1,
          1,
          1,
          3,
          2,
          1,
          1,
          1,
          2,
          1,
          1,
          1,
          1,
          2,
          1,
          1,
          1,
          2,
          1,
          1,
          2,
          2,
          1,
          1,
          1,
          3,
          1,
          1,
          1,
          1,
          2,
          1,
          1,
          1,
          1,
          3,
          2,
          1,
          1,
          2,
          1,
          1,
          1,
          1,
          1,
          1,
          1,
          1,
          1,
          1,
          1,
          1,
          1,
          1,
          1,
          1,
          1,
          1,
          1,
          1,
          1,
          1,
          1,
          1,
          1,
          1,
          1,
          1,
          1,
          1,
          1,
          1,
          1,
          1,
          1,
          1,
          2,
          2,
          1,
          3,
          2,
          1,
          1,
          1,
          1,
          3,
          1,
          1,
          1,
          1,
          1,
          2,
          1,
          1,
          1,
          1,
          1,
          1,
          1,
          1,
          3,
          1,
          1,
          1,
          1,
          1,
          1,
          1,
          4,
          1,
          1,
          1,
          1,
          2,
          1,
          1,
          1,
          1,
          1,
          2
         ],
         "xaxis": "x",
         "yaxis": "y"
        }
       ],
       "layout": {
        "barmode": "relative",
        "legend": {
         "tracegroupgap": 0
        },
        "margin": {
         "t": 60
        },
        "template": {
         "data": {
          "bar": [
           {
            "error_x": {
             "color": "#2a3f5f"
            },
            "error_y": {
             "color": "#2a3f5f"
            },
            "marker": {
             "line": {
              "color": "#E5ECF6",
              "width": 0.5
             },
             "pattern": {
              "fillmode": "overlay",
              "size": 10,
              "solidity": 0.2
             }
            },
            "type": "bar"
           }
          ],
          "barpolar": [
           {
            "marker": {
             "line": {
              "color": "#E5ECF6",
              "width": 0.5
             },
             "pattern": {
              "fillmode": "overlay",
              "size": 10,
              "solidity": 0.2
             }
            },
            "type": "barpolar"
           }
          ],
          "carpet": [
           {
            "aaxis": {
             "endlinecolor": "#2a3f5f",
             "gridcolor": "white",
             "linecolor": "white",
             "minorgridcolor": "white",
             "startlinecolor": "#2a3f5f"
            },
            "baxis": {
             "endlinecolor": "#2a3f5f",
             "gridcolor": "white",
             "linecolor": "white",
             "minorgridcolor": "white",
             "startlinecolor": "#2a3f5f"
            },
            "type": "carpet"
           }
          ],
          "choropleth": [
           {
            "colorbar": {
             "outlinewidth": 0,
             "ticks": ""
            },
            "type": "choropleth"
           }
          ],
          "contour": [
           {
            "colorbar": {
             "outlinewidth": 0,
             "ticks": ""
            },
            "colorscale": [
             [
              0,
              "#0d0887"
             ],
             [
              0.1111111111111111,
              "#46039f"
             ],
             [
              0.2222222222222222,
              "#7201a8"
             ],
             [
              0.3333333333333333,
              "#9c179e"
             ],
             [
              0.4444444444444444,
              "#bd3786"
             ],
             [
              0.5555555555555556,
              "#d8576b"
             ],
             [
              0.6666666666666666,
              "#ed7953"
             ],
             [
              0.7777777777777778,
              "#fb9f3a"
             ],
             [
              0.8888888888888888,
              "#fdca26"
             ],
             [
              1,
              "#f0f921"
             ]
            ],
            "type": "contour"
           }
          ],
          "contourcarpet": [
           {
            "colorbar": {
             "outlinewidth": 0,
             "ticks": ""
            },
            "type": "contourcarpet"
           }
          ],
          "heatmap": [
           {
            "colorbar": {
             "outlinewidth": 0,
             "ticks": ""
            },
            "colorscale": [
             [
              0,
              "#0d0887"
             ],
             [
              0.1111111111111111,
              "#46039f"
             ],
             [
              0.2222222222222222,
              "#7201a8"
             ],
             [
              0.3333333333333333,
              "#9c179e"
             ],
             [
              0.4444444444444444,
              "#bd3786"
             ],
             [
              0.5555555555555556,
              "#d8576b"
             ],
             [
              0.6666666666666666,
              "#ed7953"
             ],
             [
              0.7777777777777778,
              "#fb9f3a"
             ],
             [
              0.8888888888888888,
              "#fdca26"
             ],
             [
              1,
              "#f0f921"
             ]
            ],
            "type": "heatmap"
           }
          ],
          "heatmapgl": [
           {
            "colorbar": {
             "outlinewidth": 0,
             "ticks": ""
            },
            "colorscale": [
             [
              0,
              "#0d0887"
             ],
             [
              0.1111111111111111,
              "#46039f"
             ],
             [
              0.2222222222222222,
              "#7201a8"
             ],
             [
              0.3333333333333333,
              "#9c179e"
             ],
             [
              0.4444444444444444,
              "#bd3786"
             ],
             [
              0.5555555555555556,
              "#d8576b"
             ],
             [
              0.6666666666666666,
              "#ed7953"
             ],
             [
              0.7777777777777778,
              "#fb9f3a"
             ],
             [
              0.8888888888888888,
              "#fdca26"
             ],
             [
              1,
              "#f0f921"
             ]
            ],
            "type": "heatmapgl"
           }
          ],
          "histogram": [
           {
            "marker": {
             "pattern": {
              "fillmode": "overlay",
              "size": 10,
              "solidity": 0.2
             }
            },
            "type": "histogram"
           }
          ],
          "histogram2d": [
           {
            "colorbar": {
             "outlinewidth": 0,
             "ticks": ""
            },
            "colorscale": [
             [
              0,
              "#0d0887"
             ],
             [
              0.1111111111111111,
              "#46039f"
             ],
             [
              0.2222222222222222,
              "#7201a8"
             ],
             [
              0.3333333333333333,
              "#9c179e"
             ],
             [
              0.4444444444444444,
              "#bd3786"
             ],
             [
              0.5555555555555556,
              "#d8576b"
             ],
             [
              0.6666666666666666,
              "#ed7953"
             ],
             [
              0.7777777777777778,
              "#fb9f3a"
             ],
             [
              0.8888888888888888,
              "#fdca26"
             ],
             [
              1,
              "#f0f921"
             ]
            ],
            "type": "histogram2d"
           }
          ],
          "histogram2dcontour": [
           {
            "colorbar": {
             "outlinewidth": 0,
             "ticks": ""
            },
            "colorscale": [
             [
              0,
              "#0d0887"
             ],
             [
              0.1111111111111111,
              "#46039f"
             ],
             [
              0.2222222222222222,
              "#7201a8"
             ],
             [
              0.3333333333333333,
              "#9c179e"
             ],
             [
              0.4444444444444444,
              "#bd3786"
             ],
             [
              0.5555555555555556,
              "#d8576b"
             ],
             [
              0.6666666666666666,
              "#ed7953"
             ],
             [
              0.7777777777777778,
              "#fb9f3a"
             ],
             [
              0.8888888888888888,
              "#fdca26"
             ],
             [
              1,
              "#f0f921"
             ]
            ],
            "type": "histogram2dcontour"
           }
          ],
          "mesh3d": [
           {
            "colorbar": {
             "outlinewidth": 0,
             "ticks": ""
            },
            "type": "mesh3d"
           }
          ],
          "parcoords": [
           {
            "line": {
             "colorbar": {
              "outlinewidth": 0,
              "ticks": ""
             }
            },
            "type": "parcoords"
           }
          ],
          "pie": [
           {
            "automargin": true,
            "type": "pie"
           }
          ],
          "scatter": [
           {
            "fillpattern": {
             "fillmode": "overlay",
             "size": 10,
             "solidity": 0.2
            },
            "type": "scatter"
           }
          ],
          "scatter3d": [
           {
            "line": {
             "colorbar": {
              "outlinewidth": 0,
              "ticks": ""
             }
            },
            "marker": {
             "colorbar": {
              "outlinewidth": 0,
              "ticks": ""
             }
            },
            "type": "scatter3d"
           }
          ],
          "scattercarpet": [
           {
            "marker": {
             "colorbar": {
              "outlinewidth": 0,
              "ticks": ""
             }
            },
            "type": "scattercarpet"
           }
          ],
          "scattergeo": [
           {
            "marker": {
             "colorbar": {
              "outlinewidth": 0,
              "ticks": ""
             }
            },
            "type": "scattergeo"
           }
          ],
          "scattergl": [
           {
            "marker": {
             "colorbar": {
              "outlinewidth": 0,
              "ticks": ""
             }
            },
            "type": "scattergl"
           }
          ],
          "scattermapbox": [
           {
            "marker": {
             "colorbar": {
              "outlinewidth": 0,
              "ticks": ""
             }
            },
            "type": "scattermapbox"
           }
          ],
          "scatterpolar": [
           {
            "marker": {
             "colorbar": {
              "outlinewidth": 0,
              "ticks": ""
             }
            },
            "type": "scatterpolar"
           }
          ],
          "scatterpolargl": [
           {
            "marker": {
             "colorbar": {
              "outlinewidth": 0,
              "ticks": ""
             }
            },
            "type": "scatterpolargl"
           }
          ],
          "scatterternary": [
           {
            "marker": {
             "colorbar": {
              "outlinewidth": 0,
              "ticks": ""
             }
            },
            "type": "scatterternary"
           }
          ],
          "surface": [
           {
            "colorbar": {
             "outlinewidth": 0,
             "ticks": ""
            },
            "colorscale": [
             [
              0,
              "#0d0887"
             ],
             [
              0.1111111111111111,
              "#46039f"
             ],
             [
              0.2222222222222222,
              "#7201a8"
             ],
             [
              0.3333333333333333,
              "#9c179e"
             ],
             [
              0.4444444444444444,
              "#bd3786"
             ],
             [
              0.5555555555555556,
              "#d8576b"
             ],
             [
              0.6666666666666666,
              "#ed7953"
             ],
             [
              0.7777777777777778,
              "#fb9f3a"
             ],
             [
              0.8888888888888888,
              "#fdca26"
             ],
             [
              1,
              "#f0f921"
             ]
            ],
            "type": "surface"
           }
          ],
          "table": [
           {
            "cells": {
             "fill": {
              "color": "#EBF0F8"
             },
             "line": {
              "color": "white"
             }
            },
            "header": {
             "fill": {
              "color": "#C8D4E3"
             },
             "line": {
              "color": "white"
             }
            },
            "type": "table"
           }
          ]
         },
         "layout": {
          "annotationdefaults": {
           "arrowcolor": "#2a3f5f",
           "arrowhead": 0,
           "arrowwidth": 1
          },
          "autotypenumbers": "strict",
          "coloraxis": {
           "colorbar": {
            "outlinewidth": 0,
            "ticks": ""
           }
          },
          "colorscale": {
           "diverging": [
            [
             0,
             "#8e0152"
            ],
            [
             0.1,
             "#c51b7d"
            ],
            [
             0.2,
             "#de77ae"
            ],
            [
             0.3,
             "#f1b6da"
            ],
            [
             0.4,
             "#fde0ef"
            ],
            [
             0.5,
             "#f7f7f7"
            ],
            [
             0.6,
             "#e6f5d0"
            ],
            [
             0.7,
             "#b8e186"
            ],
            [
             0.8,
             "#7fbc41"
            ],
            [
             0.9,
             "#4d9221"
            ],
            [
             1,
             "#276419"
            ]
           ],
           "sequential": [
            [
             0,
             "#0d0887"
            ],
            [
             0.1111111111111111,
             "#46039f"
            ],
            [
             0.2222222222222222,
             "#7201a8"
            ],
            [
             0.3333333333333333,
             "#9c179e"
            ],
            [
             0.4444444444444444,
             "#bd3786"
            ],
            [
             0.5555555555555556,
             "#d8576b"
            ],
            [
             0.6666666666666666,
             "#ed7953"
            ],
            [
             0.7777777777777778,
             "#fb9f3a"
            ],
            [
             0.8888888888888888,
             "#fdca26"
            ],
            [
             1,
             "#f0f921"
            ]
           ],
           "sequentialminus": [
            [
             0,
             "#0d0887"
            ],
            [
             0.1111111111111111,
             "#46039f"
            ],
            [
             0.2222222222222222,
             "#7201a8"
            ],
            [
             0.3333333333333333,
             "#9c179e"
            ],
            [
             0.4444444444444444,
             "#bd3786"
            ],
            [
             0.5555555555555556,
             "#d8576b"
            ],
            [
             0.6666666666666666,
             "#ed7953"
            ],
            [
             0.7777777777777778,
             "#fb9f3a"
            ],
            [
             0.8888888888888888,
             "#fdca26"
            ],
            [
             1,
             "#f0f921"
            ]
           ]
          },
          "colorway": [
           "#636efa",
           "#EF553B",
           "#00cc96",
           "#ab63fa",
           "#FFA15A",
           "#19d3f3",
           "#FF6692",
           "#B6E880",
           "#FF97FF",
           "#FECB52"
          ],
          "font": {
           "color": "#2a3f5f"
          },
          "geo": {
           "bgcolor": "white",
           "lakecolor": "white",
           "landcolor": "#E5ECF6",
           "showlakes": true,
           "showland": true,
           "subunitcolor": "white"
          },
          "hoverlabel": {
           "align": "left"
          },
          "hovermode": "closest",
          "mapbox": {
           "style": "light"
          },
          "paper_bgcolor": "white",
          "plot_bgcolor": "#E5ECF6",
          "polar": {
           "angularaxis": {
            "gridcolor": "white",
            "linecolor": "white",
            "ticks": ""
           },
           "bgcolor": "#E5ECF6",
           "radialaxis": {
            "gridcolor": "white",
            "linecolor": "white",
            "ticks": ""
           }
          },
          "scene": {
           "xaxis": {
            "backgroundcolor": "#E5ECF6",
            "gridcolor": "white",
            "gridwidth": 2,
            "linecolor": "white",
            "showbackground": true,
            "ticks": "",
            "zerolinecolor": "white"
           },
           "yaxis": {
            "backgroundcolor": "#E5ECF6",
            "gridcolor": "white",
            "gridwidth": 2,
            "linecolor": "white",
            "showbackground": true,
            "ticks": "",
            "zerolinecolor": "white"
           },
           "zaxis": {
            "backgroundcolor": "#E5ECF6",
            "gridcolor": "white",
            "gridwidth": 2,
            "linecolor": "white",
            "showbackground": true,
            "ticks": "",
            "zerolinecolor": "white"
           }
          },
          "shapedefaults": {
           "line": {
            "color": "#2a3f5f"
           }
          },
          "ternary": {
           "aaxis": {
            "gridcolor": "white",
            "linecolor": "white",
            "ticks": ""
           },
           "baxis": {
            "gridcolor": "white",
            "linecolor": "white",
            "ticks": ""
           },
           "bgcolor": "#E5ECF6",
           "caxis": {
            "gridcolor": "white",
            "linecolor": "white",
            "ticks": ""
           }
          },
          "title": {
           "x": 0.05
          },
          "xaxis": {
           "automargin": true,
           "gridcolor": "white",
           "linecolor": "white",
           "ticks": "",
           "title": {
            "standoff": 15
           },
           "zerolinecolor": "white",
           "zerolinewidth": 2
          },
          "yaxis": {
           "automargin": true,
           "gridcolor": "white",
           "linecolor": "white",
           "ticks": "",
           "title": {
            "standoff": 15
           },
           "zerolinecolor": "white",
           "zerolinewidth": 2
          }
         }
        },
        "xaxis": {
         "anchor": "y",
         "domain": [
          0,
          1
         ],
         "title": {
          "text": "Number Volcanoes"
         }
        },
        "yaxis": {
         "anchor": "x",
         "domain": [
          0,
          1
         ],
         "title": {
          "text": "count"
         }
        }
       }
      }
     },
     "metadata": {},
     "output_type": "display_data"
    }
   ],
   "source": [
    "fig = px.histogram(labels_df_volc, x=\"bNumber Volcanoes\")\n",
    "fig.show()"
   ]
  },
  {
   "cell_type": "markdown",
   "metadata": {},
   "source": [
    "## Image dataset\n"
   ]
  },
  {
   "cell_type": "code",
   "execution_count": 45,
   "metadata": {},
   "outputs": [],
   "source": [
    "import pandas as pd\n",
    "import matplotlib.pyplot as plt\n",
    "import numpy as np"
   ]
  },
  {
   "cell_type": "code",
   "execution_count": 38,
   "metadata": {},
   "outputs": [
    {
     "data": {
      "text/html": [
       "<div>\n",
       "<style scoped>\n",
       "    .dataframe tbody tr th:only-of-type {\n",
       "        vertical-align: middle;\n",
       "    }\n",
       "\n",
       "    .dataframe tbody tr th {\n",
       "        vertical-align: top;\n",
       "    }\n",
       "\n",
       "    .dataframe thead th {\n",
       "        text-align: right;\n",
       "    }\n",
       "</style>\n",
       "<table border=\"1\" class=\"dataframe\">\n",
       "  <thead>\n",
       "    <tr style=\"text-align: right;\">\n",
       "      <th></th>\n",
       "      <th>0</th>\n",
       "      <th>1</th>\n",
       "      <th>2</th>\n",
       "      <th>3</th>\n",
       "      <th>4</th>\n",
       "      <th>5</th>\n",
       "      <th>6</th>\n",
       "      <th>7</th>\n",
       "      <th>8</th>\n",
       "      <th>9</th>\n",
       "      <th>...</th>\n",
       "      <th>12090</th>\n",
       "      <th>12091</th>\n",
       "      <th>12092</th>\n",
       "      <th>12093</th>\n",
       "      <th>12094</th>\n",
       "      <th>12095</th>\n",
       "      <th>12096</th>\n",
       "      <th>12097</th>\n",
       "      <th>12098</th>\n",
       "      <th>12099</th>\n",
       "    </tr>\n",
       "  </thead>\n",
       "  <tbody>\n",
       "    <tr>\n",
       "      <th>0</th>\n",
       "      <td>95</td>\n",
       "      <td>101</td>\n",
       "      <td>99</td>\n",
       "      <td>103</td>\n",
       "      <td>95</td>\n",
       "      <td>86</td>\n",
       "      <td>96</td>\n",
       "      <td>89</td>\n",
       "      <td>70</td>\n",
       "      <td>104</td>\n",
       "      <td>...</td>\n",
       "      <td>111</td>\n",
       "      <td>107</td>\n",
       "      <td>92</td>\n",
       "      <td>89</td>\n",
       "      <td>103</td>\n",
       "      <td>99</td>\n",
       "      <td>117</td>\n",
       "      <td>116</td>\n",
       "      <td>118</td>\n",
       "      <td>96</td>\n",
       "    </tr>\n",
       "    <tr>\n",
       "      <th>1</th>\n",
       "      <td>91</td>\n",
       "      <td>92</td>\n",
       "      <td>91</td>\n",
       "      <td>89</td>\n",
       "      <td>92</td>\n",
       "      <td>93</td>\n",
       "      <td>96</td>\n",
       "      <td>101</td>\n",
       "      <td>107</td>\n",
       "      <td>104</td>\n",
       "      <td>...</td>\n",
       "      <td>103</td>\n",
       "      <td>92</td>\n",
       "      <td>93</td>\n",
       "      <td>95</td>\n",
       "      <td>98</td>\n",
       "      <td>105</td>\n",
       "      <td>104</td>\n",
       "      <td>100</td>\n",
       "      <td>90</td>\n",
       "      <td>81</td>\n",
       "    </tr>\n",
       "    <tr>\n",
       "      <th>2</th>\n",
       "      <td>87</td>\n",
       "      <td>70</td>\n",
       "      <td>72</td>\n",
       "      <td>74</td>\n",
       "      <td>84</td>\n",
       "      <td>78</td>\n",
       "      <td>93</td>\n",
       "      <td>104</td>\n",
       "      <td>106</td>\n",
       "      <td>106</td>\n",
       "      <td>...</td>\n",
       "      <td>84</td>\n",
       "      <td>71</td>\n",
       "      <td>95</td>\n",
       "      <td>102</td>\n",
       "      <td>94</td>\n",
       "      <td>80</td>\n",
       "      <td>91</td>\n",
       "      <td>80</td>\n",
       "      <td>84</td>\n",
       "      <td>90</td>\n",
       "    </tr>\n",
       "    <tr>\n",
       "      <th>3</th>\n",
       "      <td>0</td>\n",
       "      <td>0</td>\n",
       "      <td>0</td>\n",
       "      <td>0</td>\n",
       "      <td>0</td>\n",
       "      <td>0</td>\n",
       "      <td>0</td>\n",
       "      <td>0</td>\n",
       "      <td>0</td>\n",
       "      <td>0</td>\n",
       "      <td>...</td>\n",
       "      <td>94</td>\n",
       "      <td>81</td>\n",
       "      <td>89</td>\n",
       "      <td>84</td>\n",
       "      <td>80</td>\n",
       "      <td>90</td>\n",
       "      <td>92</td>\n",
       "      <td>80</td>\n",
       "      <td>88</td>\n",
       "      <td>96</td>\n",
       "    </tr>\n",
       "    <tr>\n",
       "      <th>4</th>\n",
       "      <td>114</td>\n",
       "      <td>118</td>\n",
       "      <td>124</td>\n",
       "      <td>119</td>\n",
       "      <td>95</td>\n",
       "      <td>118</td>\n",
       "      <td>105</td>\n",
       "      <td>116</td>\n",
       "      <td>123</td>\n",
       "      <td>112</td>\n",
       "      <td>...</td>\n",
       "      <td>116</td>\n",
       "      <td>113</td>\n",
       "      <td>102</td>\n",
       "      <td>93</td>\n",
       "      <td>109</td>\n",
       "      <td>104</td>\n",
       "      <td>106</td>\n",
       "      <td>117</td>\n",
       "      <td>111</td>\n",
       "      <td>115</td>\n",
       "    </tr>\n",
       "  </tbody>\n",
       "</table>\n",
       "<p>5 rows × 12100 columns</p>\n",
       "</div>"
      ],
      "text/plain": [
       "   0      1      2      3      4      5      6      7      8      9      ...  \\\n",
       "0     95    101     99    103     95     86     96     89     70    104  ...   \n",
       "1     91     92     91     89     92     93     96    101    107    104  ...   \n",
       "2     87     70     72     74     84     78     93    104    106    106  ...   \n",
       "3      0      0      0      0      0      0      0      0      0      0  ...   \n",
       "4    114    118    124    119     95    118    105    116    123    112  ...   \n",
       "\n",
       "   12090  12091  12092  12093  12094  12095  12096  12097  12098  12099  \n",
       "0    111    107     92     89    103     99    117    116    118     96  \n",
       "1    103     92     93     95     98    105    104    100     90     81  \n",
       "2     84     71     95    102     94     80     91     80     84     90  \n",
       "3     94     81     89     84     80     90     92     80     88     96  \n",
       "4    116    113    102     93    109    104    106    117    111    115  \n",
       "\n",
       "[5 rows x 12100 columns]"
      ]
     },
     "execution_count": 38,
     "metadata": {},
     "output_type": "execute_result"
    }
   ],
   "source": [
    "image_df = pd.read_csv('/home/sesso/Documents/Study/pytorch_learn/volcanoes_venus/venus_data/archive/volcanoes_train/train_images.csv',\n",
    "                        header = None)\n",
    "\n",
    "image_df.head()"
   ]
  },
  {
   "cell_type": "code",
   "execution_count": 40,
   "metadata": {},
   "outputs": [
    {
     "name": "stdout",
     "output_type": "stream",
     "text": [
      "Shape: (7000, 12100)\n",
      "--- Missing Values ---\n",
      "0        0\n",
      "1        0\n",
      "2        0\n",
      "3        0\n",
      "4        0\n",
      "        ..\n",
      "12095    0\n",
      "12096    0\n",
      "12097    0\n",
      "12098    0\n",
      "12099    0\n",
      "Length: 12100, dtype: int64\n",
      "--- Missing Values (total) ---\n",
      "0\n"
     ]
    }
   ],
   "source": [
    "print(f'Shape: {image_df.shape}')\n",
    "print('--- Missing Values ---')\n",
    "print(image_df.isna().sum())\n",
    "print('--- Missing Values (total) ---')\n",
    "print(image_df.isna().sum().sum())\n",
    "# x = len(image_df_volc)/len(image_df)\n",
    "# y = 1 - x\n",
    "\n",
    "# print('--- Imbalancedness ---')\n",
    "# print('Volcanoes :',x*100,'%')\n",
    "# print('non Volcanoes :',y*100,'%')"
   ]
  },
  {
   "cell_type": "code",
   "execution_count": null,
   "metadata": {},
   "outputs": [],
   "source": []
  }
 ],
 "metadata": {
  "kernelspec": {
   "display_name": "Python 3.10.4 ('pytorch_learn')",
   "language": "python",
   "name": "python3"
  },
  "language_info": {
   "codemirror_mode": {
    "name": "ipython",
    "version": 3
   },
   "file_extension": ".py",
   "mimetype": "text/x-python",
   "name": "python",
   "nbconvert_exporter": "python",
   "pygments_lexer": "ipython3",
   "version": "3.10.4"
  },
  "orig_nbformat": 4,
  "vscode": {
   "interpreter": {
    "hash": "f397f3ec50889eb054daa16521f0a15537c1a176cdcd52c7938d888056d34d40"
   }
  }
 },
 "nbformat": 4,
 "nbformat_minor": 2
}
