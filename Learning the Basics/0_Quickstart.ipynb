{
 "cells": [
  {
   "cell_type": "markdown",
   "metadata": {},
   "source": [
    "# Quick example"
   ]
  },
  {
   "cell_type": "code",
   "execution_count": 1,
   "metadata": {},
   "outputs": [],
   "source": [
    "import torch\n",
    "from torch import nn\n",
    "from torch.utils.data import DataLoader\n",
    "from torchvision import datasets\n",
    "from torchvision.transforms import ToTensor"
   ]
  },
  {
   "cell_type": "code",
   "execution_count": 2,
   "metadata": {},
   "outputs": [],
   "source": [
    "# Download training data from open datasets.\n",
    "training_data = datasets.FashionMNIST(\n",
    "    root=\"data\",\n",
    "    train=True,\n",
    "    download=True,\n",
    "    transform=ToTensor(),\n",
    ")\n",
    "\n",
    "# Download test data from open datasets.\n",
    "test_data = datasets.FashionMNIST(\n",
    "    root=\"data\",\n",
    "    train=False,\n",
    "    download=True,\n",
    "    transform=ToTensor(),\n",
    ")"
   ]
  },
  {
   "cell_type": "code",
   "execution_count": 3,
   "metadata": {},
   "outputs": [
    {
     "name": "stdout",
     "output_type": "stream",
     "text": [
      "Shape of X [N, C, H, W]: torch.Size([64, 1, 28, 28])\n",
      "Shape of y: torch.Size([64]) torch.int64\n"
     ]
    }
   ],
   "source": [
    "batch_size = 64\n",
    "\n",
    "# Create data loaders.\n",
    "train_dataloader = DataLoader(training_data, batch_size=batch_size)\n",
    "test_dataloader = DataLoader(test_data, batch_size=batch_size)\n",
    "\n",
    "for X, y in test_dataloader:\n",
    "    print(f\"Shape of X [N, C, H, W]: {X.shape}\")\n",
    "    print(f\"Shape of y: {y.shape} {y.dtype}\")\n",
    "    break"
   ]
  },
  {
   "cell_type": "code",
   "execution_count": null,
   "metadata": {},
   "outputs": [],
   "source": [
    "# Get cpu or gpu device for training.\n",
    "device = \"cuda\" if torch.cuda.is_available() else \"cpu\"\n",
    "print(f\"Using {device} device\")\n",
    "\n",
    "# Define model\n",
    "class NeuralNetwork(nn.Module):\n",
    "    def __init__(self):\n",
    "        super(NeuralNetwork, self).__init__()\n",
    "        self.flatten = nn.Flatten()\n",
    "        self.linear_relu_stack = nn.Sequential(\n",
    "            nn.Linear(28*28, 512),\n",
    "            nn.ReLU(),\n",
    "            nn.Linear(512, 512),\n",
    "            nn.ReLU(),\n",
    "            nn.Linear(512, 10)\n",
    "        )\n",
    "\n",
    "    def forward(self, x):\n",
    "        x = self.flatten(x)\n",
    "        logits = self.linear_relu_stack(x)\n",
    "        return logits\n",
    "\n",
    "model = NeuralNetwork().to(device)\n",
    "print(model)"
   ]
  },
  {
   "cell_type": "markdown",
   "metadata": {},
   "source": [
    "#### Optimizer"
   ]
  },
  {
   "cell_type": "code",
   "execution_count": 5,
   "metadata": {},
   "outputs": [],
   "source": [
    "loss_fn = nn.CrossEntropyLoss()\n",
    "optimizer = torch.optim.SGD(model.parameters(), lr=1e-3)\n",
    "\n",
    "\n",
    "def train(dataloader, model, loss_fn, optimizer):\n",
    "    size = len(dataloader.dataset)\n",
    "    model.train()\n",
    "    for batch, (X, y) in enumerate(dataloader): # CHECK\n",
    "        X, y = X.to(device), y.to(device)\n",
    "\n",
    "        # Compute prediction error\n",
    "        pred = model(X)\n",
    "        loss = loss_fn(pred, y)\n",
    "\n",
    "        # Backpropagation\n",
    "        optimizer.zero_grad()\n",
    "        loss.backward()\n",
    "        optimizer.step()\n",
    "\n",
    "        if batch % 100 == 0:\n",
    "            loss, current = loss.item(), batch * len(X)\n",
    "            print(f\"loss: {loss:>7f}  [{current:>5d}/{size:>5d}]\")"
   ]
  },
  {
   "cell_type": "code",
   "execution_count": 6,
   "metadata": {},
   "outputs": [],
   "source": [
    "def test(dataloader, model, loss_fn):\n",
    "    size = len(dataloader.dataset)\n",
    "    num_batches = len(dataloader)\n",
    "    model.eval()\n",
    "    test_loss, correct = 0, 0\n",
    "    with torch.no_grad():\n",
    "        for X, y in dataloader:\n",
    "            X, y = X.to(device), y.to(device)\n",
    "            pred = model(X)\n",
    "            test_loss += loss_fn(pred, y).item()\n",
    "            correct += (pred.argmax(1) == y).type(torch.float).sum().item()\n",
    "    test_loss /= num_batches\n",
    "    correct /= size\n",
    "    print(f\"Test Error: \\n Accuracy: {(100*correct):>0.1f}%, Avg loss: {test_loss:>8f} \\n\")"
   ]
  },
  {
   "cell_type": "code",
   "execution_count": 7,
   "metadata": {},
   "outputs": [
    {
     "name": "stdout",
     "output_type": "stream",
     "text": [
      "Epoch 1\n",
      "-------------------------------\n",
      "loss: 2.290909  [    0/60000]\n",
      "loss: 2.281566  [ 6400/60000]\n",
      "loss: 2.265830  [12800/60000]\n",
      "loss: 2.267352  [19200/60000]\n",
      "loss: 2.241535  [25600/60000]\n",
      "loss: 2.228099  [32000/60000]\n",
      "loss: 2.220967  [38400/60000]\n",
      "loss: 2.192025  [44800/60000]\n",
      "loss: 2.188776  [51200/60000]\n",
      "loss: 2.169795  [57600/60000]\n",
      "Test Error: \n",
      " Accuracy: 47.9%, Avg loss: 2.159950 \n",
      "\n",
      "Epoch 2\n",
      "-------------------------------\n",
      "loss: 2.165980  [    0/60000]\n",
      "loss: 2.153972  [ 6400/60000]\n",
      "loss: 2.101099  [12800/60000]\n",
      "loss: 2.118135  [19200/60000]\n",
      "loss: 2.064894  [25600/60000]\n",
      "loss: 2.017909  [32000/60000]\n",
      "loss: 2.028011  [38400/60000]\n",
      "loss: 1.957580  [44800/60000]\n",
      "loss: 1.955672  [51200/60000]\n",
      "loss: 1.893047  [57600/60000]\n",
      "Test Error: \n",
      " Accuracy: 59.6%, Avg loss: 1.890950 \n",
      "\n",
      "Epoch 3\n",
      "-------------------------------\n",
      "loss: 1.922250  [    0/60000]\n",
      "loss: 1.886048  [ 6400/60000]\n",
      "loss: 1.776589  [12800/60000]\n",
      "loss: 1.814728  [19200/60000]\n",
      "loss: 1.706776  [25600/60000]\n",
      "loss: 1.665858  [32000/60000]\n",
      "loss: 1.675224  [38400/60000]\n",
      "loss: 1.588980  [44800/60000]\n",
      "loss: 1.598079  [51200/60000]\n",
      "loss: 1.502477  [57600/60000]\n",
      "Test Error: \n",
      " Accuracy: 61.7%, Avg loss: 1.523451 \n",
      "\n",
      "Epoch 4\n",
      "-------------------------------\n",
      "loss: 1.591684  [    0/60000]\n",
      "loss: 1.549892  [ 6400/60000]\n",
      "loss: 1.412761  [12800/60000]\n",
      "loss: 1.473745  [19200/60000]\n",
      "loss: 1.360935  [25600/60000]\n",
      "loss: 1.365160  [32000/60000]\n",
      "loss: 1.368991  [38400/60000]\n",
      "loss: 1.307164  [44800/60000]\n",
      "loss: 1.324451  [51200/60000]\n",
      "loss: 1.237613  [57600/60000]\n",
      "Test Error: \n",
      " Accuracy: 62.5%, Avg loss: 1.261052 \n",
      "\n",
      "Epoch 5\n",
      "-------------------------------\n",
      "loss: 1.343404  [    0/60000]\n",
      "loss: 1.316380  [ 6400/60000]\n",
      "loss: 1.163988  [12800/60000]\n",
      "loss: 1.254712  [19200/60000]\n",
      "loss: 1.136455  [25600/60000]\n",
      "loss: 1.168223  [32000/60000]\n",
      "loss: 1.182626  [38400/60000]\n",
      "loss: 1.132079  [44800/60000]\n",
      "loss: 1.152518  [51200/60000]\n",
      "loss: 1.084662  [57600/60000]\n",
      "Test Error: \n",
      " Accuracy: 63.9%, Avg loss: 1.098854 \n",
      "\n",
      "Done!\n"
     ]
    }
   ],
   "source": [
    "epochs = 5\n",
    "for t in range(epochs):\n",
    "    print(f\"Epoch {t+1}\\n-------------------------------\")\n",
    "    train(train_dataloader, model, loss_fn, optimizer)\n",
    "    test(test_dataloader, model, loss_fn)\n",
    "print(\"Done!\")"
   ]
  }
 ],
 "metadata": {
  "kernelspec": {
   "display_name": "Python 3.10.4 ('pytorch_learn')",
   "language": "python",
   "name": "python3"
  },
  "language_info": {
   "codemirror_mode": {
    "name": "ipython",
    "version": 3
   },
   "file_extension": ".py",
   "mimetype": "text/x-python",
   "name": "python",
   "nbconvert_exporter": "python",
   "pygments_lexer": "ipython3",
   "version": "3.10.4"
  },
  "orig_nbformat": 4,
  "vscode": {
   "interpreter": {
    "hash": "f397f3ec50889eb054daa16521f0a15537c1a176cdcd52c7938d888056d34d40"
   }
  }
 },
 "nbformat": 4,
 "nbformat_minor": 2
}
