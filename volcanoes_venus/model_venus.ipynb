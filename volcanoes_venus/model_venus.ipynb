{
 "cells": [
  {
   "cell_type": "code",
   "execution_count": 8,
   "metadata": {},
   "outputs": [],
   "source": [
    "import torch\n",
    "from torch import nn\n",
    "from torch.utils.data import DataLoader, TensorDataset, random_split\n",
    "from torchvision import datasets\n",
    "from torchvision.transforms import ToTensor\n",
    "import pandas as pd"
   ]
  },
  {
   "cell_type": "code",
   "execution_count": 9,
   "metadata": {},
   "outputs": [],
   "source": [
    "# Loading datasets\n",
    "\n",
    "training_labels = pd.read_csv('/home/sesso/Documents/Study/pytorch_learn/volcanoes_venus/venus_data/archive/volcanoes_train/train_labels.csv')\n",
    "training_input = pd.read_csv('/home/sesso/Documents/Study/pytorch_learn/volcanoes_venus/venus_data/archive/volcanoes_train/train_images.csv',\n",
    "                                header = None)\n",
    "\n",
    "testing_labels = pd.read_csv('/home/sesso/Documents/Study/pytorch_learn/volcanoes_venus/venus_data/archive/volcanoes_test/test_labels.csv')\n",
    "testing_input = pd.read_csv('/home/sesso/Documents/Study/pytorch_learn/volcanoes_venus/venus_data/archive/volcanoes_test/test_images.csv',\n",
    "                                header = None)           \n",
    "\n",
    "# Creating tensor dataset\n",
    "\n",
    "target_col = 'Type'\n",
    "# use 30% of training data for validation\n",
    "train_set_size = int(len(training_input) * 0.7)\n",
    "valid_set_size = len(training_input) - train_set_size\n",
    "batch_size = 64\n",
    "\n",
    "## Convert to numpy array\n",
    "\n",
    "training_labels = training_labels[target_col].to_numpy()\n",
    "training_input = training_input.to_numpy()\n",
    "\n",
    "testing_labels = testing_labels[target_col].to_numpy()\n",
    "testing_input = testing_input.to_numpy()\n",
    "\n",
    "## Make tensors of them\n",
    "\n",
    "training_inputs = torch.tensor(training_input, dtype=torch.float32)\n",
    "training_targets = torch.tensor(training_labels, dtype=torch.float32)\n",
    "\n",
    "testing_inputs = torch.tensor(testing_input, dtype=torch.float32)\n",
    "testing_targets = torch.tensor(testing_labels, dtype=torch.float32)\n",
    "\n",
    "## Tensor datasets\n",
    "\n",
    "dtrain = TensorDataset(training_inputs, training_targets)\n",
    "dtest = TensorDataset(testing_inputs, testing_targets)\n",
    "\n",
    "## Split train and validation set\n",
    "\n",
    "### split the train set into two\n",
    "seed = torch.Generator().manual_seed(42)\n",
    "train_set, valid_set = random_split(dtrain, [train_set_size, valid_set_size], generator=seed)\n",
    "\n",
    "### Batch loader\n",
    "\n",
    "train_dl = DataLoader(train_set, batch_size = batch_size, shuffle=True) \n",
    "val_dl = DataLoader(valid_set, batch_size = batch_size, shuffle=True) \n",
    "test_dl = DataLoader(dtest, batch_size =batch_size)\n",
    "\n"
   ]
  },
  {
   "cell_type": "code",
   "execution_count": null,
   "metadata": {},
   "outputs": [],
   "source": [
    "batch_size = 64\n",
    "\n",
    "# Create data loaders.\n",
    "train_dataloader = DataLoader(training_data, batch_size=batch_size)\n",
    "test_dataloader = DataLoader(test_data, batch_size=batch_size)\n",
    "\n",
    "for X, y in test_dataloader:\n",
    "    print(f\"Shape of X [N, C, H, W]: {X.shape}\")\n",
    "    print(f\"Shape of y: {y.shape} {y.dtype}\")\n",
    "    break"
   ]
  }
 ],
 "metadata": {
  "kernelspec": {
   "display_name": "Python 3.10.4 ('pytorch_learn')",
   "language": "python",
   "name": "python3"
  },
  "language_info": {
   "codemirror_mode": {
    "name": "ipython",
    "version": 3
   },
   "file_extension": ".py",
   "mimetype": "text/x-python",
   "name": "python",
   "nbconvert_exporter": "python",
   "pygments_lexer": "ipython3",
   "version": "3.10.4"
  },
  "orig_nbformat": 4,
  "vscode": {
   "interpreter": {
    "hash": "f397f3ec50889eb054daa16521f0a15537c1a176cdcd52c7938d888056d34d40"
   }
  }
 },
 "nbformat": 4,
 "nbformat_minor": 2
}
